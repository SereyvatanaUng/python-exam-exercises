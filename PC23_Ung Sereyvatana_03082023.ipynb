{
 "cells": [
  {
   "cell_type": "markdown",
   "id": "c3dc8719",
   "metadata": {},
   "source": [
    "# 71"
   ]
  },
  {
   "cell_type": "code",
   "execution_count": 1,
   "id": "fde441d4",
   "metadata": {},
   "outputs": [
    {
     "name": "stdout",
     "output_type": "stream",
     "text": [
      "51 100\n",
      "3775\n"
     ]
    }
   ],
   "source": [
    "a, b = input().split()\n",
    "a, b = int(a), int(b)\n",
    "print(sum(range(a, b + 1)))"
   ]
  },
  {
   "cell_type": "markdown",
   "id": "172711fa",
   "metadata": {},
   "source": [
    "# 72"
   ]
  },
  {
   "cell_type": "code",
   "execution_count": 2,
   "id": "efb29d93",
   "metadata": {},
   "outputs": [
    {
     "name": "stdout",
     "output_type": "stream",
     "text": [
      "11\n",
      "1 3 5 7 9 11\n"
     ]
    }
   ],
   "source": [
    "N = int(input())\n",
    "print(*range(1, N + 1, 2))"
   ]
  },
  {
   "cell_type": "markdown",
   "id": "159423b4",
   "metadata": {},
   "source": [
    "# 73"
   ]
  },
  {
   "cell_type": "code",
   "execution_count": 4,
   "id": "47603920",
   "metadata": {},
   "outputs": [
    {
     "name": "stdout",
     "output_type": "stream",
     "text": [
      "12\n",
      "6\n"
     ]
    }
   ],
   "source": [
    "N = int(input())\n",
    "count = 0\n",
    "for i in range(1, N + 1) :\n",
    "    if N % i == 0 :\n",
    "        count += 1\n",
    "print(count)"
   ]
  },
  {
   "cell_type": "markdown",
   "id": "ef96c8d1",
   "metadata": {},
   "source": [
    "# 74"
   ]
  },
  {
   "cell_type": "code",
   "execution_count": 5,
   "id": "a593b8d9",
   "metadata": {},
   "outputs": [
    {
     "name": "stdout",
     "output_type": "stream",
     "text": [
      "10\n",
      "23\n"
     ]
    }
   ],
   "source": [
    "N = int(input())\n",
    "summ = 0\n",
    "for i in range(2, N) :\n",
    "    if i % 3 == 0 or i % 5 == 0 :\n",
    "        summ += i\n",
    "print(summ)"
   ]
  },
  {
   "cell_type": "markdown",
   "id": "2e3345c1",
   "metadata": {},
   "source": [
    "# 75"
   ]
  },
  {
   "cell_type": "code",
   "execution_count": 6,
   "id": "27da39b6",
   "metadata": {},
   "outputs": [
    {
     "name": "stdout",
     "output_type": "stream",
     "text": [
      "12\n",
      "28\n"
     ]
    }
   ],
   "source": [
    "N = int(input())\n",
    "summ = 0\n",
    "for i in range(1, N + 1) :\n",
    "    if N % i == 0 :\n",
    "        summ += i\n",
    "print(summ)"
   ]
  },
  {
   "cell_type": "markdown",
   "id": "4ae0a9f3",
   "metadata": {},
   "source": [
    "# 76"
   ]
  },
  {
   "cell_type": "code",
   "execution_count": 7,
   "id": "0ce2d2ab",
   "metadata": {},
   "outputs": [
    {
     "name": "stdout",
     "output_type": "stream",
     "text": [
      "10\n",
      "2\n"
     ]
    }
   ],
   "source": [
    "N = int(input())\n",
    "count = 0\n",
    "for i in range(2, N + 1, 2) :\n",
    "    for j in range(2, i + 1, 2) :\n",
    "        if i * j < N :\n",
    "            count += 1\n",
    "print(count)"
   ]
  },
  {
   "cell_type": "markdown",
   "id": "611811b1",
   "metadata": {},
   "source": [
    "# 77"
   ]
  },
  {
   "cell_type": "code",
   "execution_count": 10,
   "id": "4338c798",
   "metadata": {},
   "outputs": [
    {
     "name": "stdout",
     "output_type": "stream",
     "text": [
      "10\n",
      "DEFICIENT\n"
     ]
    }
   ],
   "source": [
    "N = int(input())\n",
    "result = []\n",
    "for i in range(1, N) :\n",
    "    if N % i == 0 :\n",
    "        result.append(i)\n",
    "if sum(result) == N :\n",
    "    print('PERFECT')\n",
    "elif sum(result) > N :\n",
    "    print('ABUNDANT')\n",
    "else :\n",
    "    print('DEFICIENT')"
   ]
  },
  {
   "cell_type": "markdown",
   "id": "9fd39691",
   "metadata": {},
   "source": [
    "# 78"
   ]
  },
  {
   "cell_type": "code",
   "execution_count": 11,
   "id": "d442c1e8",
   "metadata": {},
   "outputs": [
    {
     "name": "stdout",
     "output_type": "stream",
     "text": [
      "#\n",
      "##\n",
      "###\n",
      "####\n",
      "#####\n"
     ]
    }
   ],
   "source": [
    "for i in range(5) :\n",
    "    for j in range(i + 1) :\n",
    "        print('#', end = '')\n",
    "    print()"
   ]
  },
  {
   "cell_type": "markdown",
   "id": "b5b10b85",
   "metadata": {},
   "source": [
    "# 79"
   ]
  },
  {
   "cell_type": "code",
   "execution_count": 12,
   "id": "de1c0534",
   "metadata": {},
   "outputs": [
    {
     "name": "stdout",
     "output_type": "stream",
     "text": [
      "#####\n",
      "####\n",
      "###\n",
      "##\n",
      "#\n"
     ]
    }
   ],
   "source": [
    "for i in range(5, 0, -1) :\n",
    "    for j in range(i) :\n",
    "        print('#', end = '')\n",
    "    print()"
   ]
  },
  {
   "cell_type": "markdown",
   "id": "6335e77e",
   "metadata": {},
   "source": [
    "# 80"
   ]
  },
  {
   "cell_type": "code",
   "execution_count": 13,
   "id": "f6fdb368",
   "metadata": {},
   "outputs": [
    {
     "name": "stdout",
     "output_type": "stream",
     "text": [
      "    #\n",
      "   ##\n",
      "  ###\n",
      " ####\n",
      "#####\n"
     ]
    }
   ],
   "source": [
    "n = 5\n",
    "for i in range(n) :\n",
    "    print(f\"{' ' * (n - i - 1)}{'#' * (i + 1)}\")"
   ]
  },
  {
   "cell_type": "markdown",
   "id": "ac2b668e",
   "metadata": {},
   "source": [
    "# 81"
   ]
  },
  {
   "cell_type": "code",
   "execution_count": 14,
   "id": "0aa17461",
   "metadata": {},
   "outputs": [
    {
     "name": "stdout",
     "output_type": "stream",
     "text": [
      "#####\n",
      " ####\n",
      "  ###\n",
      "   ##\n",
      "    #\n"
     ]
    }
   ],
   "source": [
    "n = 5\n",
    "for i in range(n) :\n",
    "    print(f\"{' ' * (i)}{'#' * (n - i)}\")"
   ]
  },
  {
   "cell_type": "markdown",
   "id": "d4d35435",
   "metadata": {},
   "source": [
    "# 82"
   ]
  },
  {
   "cell_type": "code",
   "execution_count": 15,
   "id": "4a697769",
   "metadata": {},
   "outputs": [
    {
     "name": "stdout",
     "output_type": "stream",
     "text": [
      "    #\n",
      "   ###\n",
      "  #####\n",
      " #######\n",
      "#########\n"
     ]
    }
   ],
   "source": [
    "n = 5\n",
    "for i in range(1, n + 1) :\n",
    "    print(f\"{' ' * (n - i)}{'#' * (2 * i - 1)}\")"
   ]
  },
  {
   "cell_type": "markdown",
   "id": "a613fe68",
   "metadata": {},
   "source": [
    "# 83"
   ]
  },
  {
   "cell_type": "code",
   "execution_count": 16,
   "id": "983478af",
   "metadata": {},
   "outputs": [
    {
     "name": "stdout",
     "output_type": "stream",
     "text": [
      "#########\n",
      " #######\n",
      "  #####\n",
      "   ###\n",
      "    #\n"
     ]
    }
   ],
   "source": [
    "n = 5 \n",
    "for i in range(n) :\n",
    "    print(f\"{' ' * i}{'#' * ((n - i) * 2 - 1)}\")"
   ]
  },
  {
   "cell_type": "markdown",
   "id": "bc3e77c3",
   "metadata": {},
   "source": [
    "# 84"
   ]
  },
  {
   "cell_type": "code",
   "execution_count": 17,
   "id": "394147b3",
   "metadata": {},
   "outputs": [
    {
     "name": "stdout",
     "output_type": "stream",
     "text": [
      "20\n",
      "1 1 3\n",
      "2 2 2\n",
      "3 3 1\n",
      "6 1 1\n",
      "4\n"
     ]
    }
   ],
   "source": [
    "G = int(input())\n",
    "count = 0\n",
    "for g2 in range(1, 10) :\n",
    "    for g3 in range(1, 10) :\n",
    "        for g5 in range(1, 10) :\n",
    "            if g2 * 2 + g3 * 3 + g5 * 5 == G :\n",
    "                print(g2, g3, g5)\n",
    "                count += 1\n",
    "print(count)  "
   ]
  },
  {
   "cell_type": "markdown",
   "id": "e9c29551",
   "metadata": {},
   "source": [
    "# 85"
   ]
  },
  {
   "cell_type": "code",
   "execution_count": 18,
   "id": "0924364a",
   "metadata": {},
   "outputs": [
    {
     "name": "stdout",
     "output_type": "stream",
     "text": [
      "5\n",
      "1       1\n",
      "12     21\n",
      "123   321\n",
      "1234 4321\n",
      "123454321\n",
      "1234 4321\n",
      "123   321\n",
      "12     21\n",
      "1       1\n"
     ]
    }
   ],
   "source": [
    "while True :\n",
    "    N = int(input())\n",
    "    if N > 0 and N <= 10 :\n",
    "        break\n",
    "for i in range(1, N) :\n",
    "    print(*range(1, i+1), sep = '', end = '')\n",
    "    print(f\"{' ' * ((N-i)*2-1)}\", end = '')\n",
    "    print(*range(i, 0, -1), sep = '')\n",
    "\n",
    "print(*range(1, N + 1), *range(N-1, 0, -1), sep = '')\n",
    "\n",
    "for i in range(N, 1, -1) :\n",
    "    print(*range(1, i), sep = '', end = '')\n",
    "    print(f\"{' ' * ((N-i+1)*2-1)}\", end = '')\n",
    "    print(*range(i - 1, 0, -1), sep = '')"
   ]
  },
  {
   "cell_type": "markdown",
   "id": "da9a71a3",
   "metadata": {},
   "source": [
    "# 86"
   ]
  },
  {
   "cell_type": "code",
   "execution_count": 19,
   "id": "501bf9f8",
   "metadata": {},
   "outputs": [
    {
     "name": "stdout",
     "output_type": "stream",
     "text": [
      "1250\n",
      "8750\n",
      "7500\n",
      "6250\n",
      "5000\n",
      "3750\n",
      "2500\n",
      "1250\n",
      "0\n",
      "8\n"
     ]
    }
   ],
   "source": [
    "A = int(input())\n",
    "count = 0\n",
    "balance = 10000\n",
    "while balance > 0 :\n",
    "    balance -= A\n",
    "    count += 1\n",
    "    print(balance)  \n",
    "print(count)"
   ]
  },
  {
   "cell_type": "markdown",
   "id": "58364bf0",
   "metadata": {},
   "source": [
    "# 87"
   ]
  },
  {
   "cell_type": "code",
   "execution_count": 20,
   "id": "911c72bf",
   "metadata": {},
   "outputs": [
    {
     "name": "stdout",
     "output_type": "stream",
     "text": [
      "150 50 1000 100\n",
      "450\n"
     ]
    }
   ],
   "source": [
    "a, b, c, d = input().split()\n",
    "a, b, c, d = int(a), int(b), int(c), int(d)\n",
    "while True :\n",
    "    if a >= c :\n",
    "        print(a)\n",
    "        break\n",
    "    a += b\n",
    "    c -= d"
   ]
  },
  {
   "cell_type": "markdown",
   "id": "0e422664",
   "metadata": {},
   "source": [
    "# 88"
   ]
  },
  {
   "cell_type": "code",
   "execution_count": 21,
   "id": "e1e67747",
   "metadata": {},
   "outputs": [
    {
     "name": "stdout",
     "output_type": "stream",
     "text": [
      "10 3\n",
      "14\n"
     ]
    }
   ],
   "source": [
    "N, K = input().split()\n",
    "N, K = int(N), int(K)\n",
    "total = N\n",
    "new = 0\n",
    "while N >= K :\n",
    "    N = N - K + 1\n",
    "    total += 1\n",
    "print(total)"
   ]
  },
  {
   "cell_type": "markdown",
   "id": "41bd860d",
   "metadata": {},
   "source": [
    "# 89"
   ]
  },
  {
   "cell_type": "code",
   "execution_count": 22,
   "id": "9962ba28",
   "metadata": {},
   "outputs": [
    {
     "name": "stdout",
     "output_type": "stream",
     "text": [
      "10\n",
      "30\n"
     ]
    }
   ],
   "source": [
    "N = int(input())\n",
    "coin = 1\n",
    "summ = 0\n",
    "count = 0\n",
    "for i in range(1, N + 1) :      \n",
    "    if count == coin :\n",
    "        coin += 1\n",
    "        count = 0\n",
    "    summ += coin\n",
    "    count += 1\n",
    "print(summ)"
   ]
  },
  {
   "cell_type": "markdown",
   "id": "75777cb1",
   "metadata": {},
   "source": [
    "# 90"
   ]
  },
  {
   "cell_type": "code",
   "execution_count": 23,
   "id": "77037927",
   "metadata": {},
   "outputs": [
    {
     "name": "stdout",
     "output_type": "stream",
     "text": [
      "4\n",
      "30\n"
     ]
    }
   ],
   "source": [
    "N = int(input())\n",
    "summ = 0\n",
    "for i in range(1, N + 1) :\n",
    "    summ += i*i\n",
    "print(summ)"
   ]
  },
  {
   "cell_type": "markdown",
   "id": "f7f08ab7",
   "metadata": {},
   "source": [
    "# 91"
   ]
  },
  {
   "cell_type": "code",
   "execution_count": 24,
   "id": "ebb9e972",
   "metadata": {},
   "outputs": [
    {
     "name": "stdout",
     "output_type": "stream",
     "text": [
      "3\n",
      "14\n"
     ]
    }
   ],
   "source": [
    "N = int(input())\n",
    "summ = 0\n",
    "for i in range(1, N + 2) :\n",
    "    for j in range(1, 2 * i - 1, 2) :\n",
    "        summ += j\n",
    "print(summ)"
   ]
  },
  {
   "cell_type": "markdown",
   "id": "a6d44fad",
   "metadata": {},
   "source": [
    "# 92"
   ]
  },
  {
   "cell_type": "code",
   "execution_count": 88,
   "id": "7e749ed5",
   "metadata": {},
   "outputs": [
    {
     "name": "stdout",
     "output_type": "stream",
     "text": [
      "50 60\n",
      "-1\n"
     ]
    }
   ],
   "source": [
    "while True :\n",
    "    A, B = input().split()\n",
    "    A, B = int(A), int(B)\n",
    "    if A < B :\n",
    "        break\n",
    "summ = 0\n",
    "first = A\n",
    "for i in range(A, B + 1) :\n",
    "    j = i ** 2\n",
    "    if j > B :\n",
    "        if summ == 0 :\n",
    "            break\n",
    "    else :\n",
    "        summ = summ + j\n",
    "if summ == 0 :\n",
    "    print(-1)\n",
    "else :\n",
    "    print(summ)\n",
    "    print(first)"
   ]
  },
  {
   "cell_type": "markdown",
   "id": "48d1c9b9",
   "metadata": {},
   "source": [
    "# 93"
   ]
  },
  {
   "cell_type": "code",
   "execution_count": 25,
   "id": "31a6c42d",
   "metadata": {},
   "outputs": [
    {
     "name": "stdout",
     "output_type": "stream",
     "text": [
      "5\n",
      "2\n"
     ]
    }
   ],
   "source": [
    "N = int(input())\n",
    "lock = 1\n",
    "unlock = 0\n",
    "cell = [0] * N\n",
    "for i in range(2, N + 1) :\n",
    "    for j in range(1, N + 1) :\n",
    "        if i * j <= N and cell[i*j-1] == unlock:        \n",
    "            cell[i*j-1] = lock\n",
    "        elif i * j <= N :\n",
    "            cell[i*j-1] = unlock\n",
    "print(cell.count(unlock))"
   ]
  },
  {
   "cell_type": "markdown",
   "id": "0a2822f3",
   "metadata": {},
   "source": [
    "# 94"
   ]
  },
  {
   "cell_type": "code",
   "execution_count": 26,
   "id": "aa51272b",
   "metadata": {},
   "outputs": [
    {
     "name": "stdout",
     "output_type": "stream",
     "text": [
      "25\n",
      "5\n"
     ]
    }
   ],
   "source": [
    "import math as m\n",
    "tiles = int(input())\n",
    "difference = m.sqrt(tiles)\n",
    "if difference % 1 == 0 :\n",
    "    print(int(difference))"
   ]
  },
  {
   "cell_type": "markdown",
   "id": "27032b42",
   "metadata": {},
   "source": [
    "# 95"
   ]
  },
  {
   "cell_type": "code",
   "execution_count": 29,
   "id": "dedc66b7",
   "metadata": {},
   "outputs": [
    {
     "name": "stdout",
     "output_type": "stream",
     "text": [
      "120\n",
      "Normal Number\n"
     ]
    }
   ],
   "source": [
    "number = int(input())\n",
    "origin = number\n",
    "reversed_number = 0\n",
    "while number > 0:\n",
    "    reversed_number = reversed_number * 10 + number % 10\n",
    "    number //= 10\n",
    "\n",
    "if origin == reversed_number :\n",
    "    print('Palindrome Number')\n",
    "else :\n",
    "    print('Normal Number')"
   ]
  },
  {
   "cell_type": "markdown",
   "id": "661572ab",
   "metadata": {},
   "source": [
    "# 96"
   ]
  },
  {
   "cell_type": "code",
   "execution_count": 27,
   "id": "dff807e3",
   "metadata": {},
   "outputs": [
    {
     "name": "stdout",
     "output_type": "stream",
     "text": [
      "2 3 5 7 11\n",
      "13 17 19 23 29\n",
      "31 37 41 43 47\n",
      "53 59 61 67 71\n",
      "73 79 83 89 97\n"
     ]
    }
   ],
   "source": [
    "prime = []\n",
    "count = 0\n",
    "for i in range(1, 100) :\n",
    "    for j in range(1, i + 1) :\n",
    "        if i % j == 0 :\n",
    "            count += 1          \n",
    "    if count == 2 :\n",
    "        prime.append(j)\n",
    "    count = 0\n",
    "for i in range(0, len(prime), 5) :\n",
    "    print(*prime[i:i+5], sep = ' ')"
   ]
  },
  {
   "cell_type": "markdown",
   "id": "5030a1ad",
   "metadata": {},
   "source": [
    "# 97"
   ]
  },
  {
   "cell_type": "code",
   "execution_count": 30,
   "id": "8e30ca8a",
   "metadata": {},
   "outputs": [
    {
     "name": "stdout",
     "output_type": "stream",
     "text": [
      "2 4 6 8 10 12 14 \n",
      "56\n"
     ]
    }
   ],
   "source": [
    "summ = 0\n",
    "for i in range(2, 100, 2) :\n",
    "    if summ < 50 :\n",
    "        print(i, end = ' ')\n",
    "        summ += i\n",
    "print()\n",
    "print(summ)"
   ]
  },
  {
   "cell_type": "markdown",
   "id": "f3627f86",
   "metadata": {},
   "source": [
    "# 98"
   ]
  },
  {
   "cell_type": "code",
   "execution_count": 31,
   "id": "70e035f6",
   "metadata": {},
   "outputs": [
    {
     "name": "stdout",
     "output_type": "stream",
     "text": [
      "1 2\n",
      "2 3\n",
      "3 4\n",
      "4 5\n",
      "0 0\n",
      "9\n"
     ]
    }
   ],
   "source": [
    "lst = []\n",
    "while True :\n",
    "    A, B = input().split()\n",
    "    A, B = int(A), int(B)\n",
    "    if A == 0 and B == 0 :\n",
    "        break\n",
    "    lst.append(A + B)\n",
    "print(max(lst))"
   ]
  },
  {
   "cell_type": "markdown",
   "id": "ccd9a577",
   "metadata": {},
   "source": [
    "# 99"
   ]
  },
  {
   "cell_type": "code",
   "execution_count": 32,
   "id": "cf96d096",
   "metadata": {
    "scrolled": true
   },
   "outputs": [
    {
     "name": "stdout",
     "output_type": "stream",
     "text": [
      "1 5 7 11 13 17 19 23 25 29\n",
      "31 35 37 41 43 47 49 53 55 59\n",
      "61 65 67 71 73 77 79 83 85 89\n",
      "91 95 97\n"
     ]
    }
   ],
   "source": [
    "lst = []\n",
    "for i in range(1, 101) :\n",
    "    if i % 2 != 0 and i % 3 != 0 :\n",
    "        lst.append(i)\n",
    "for i in range(0, len(lst), 10) :\n",
    "    print(*lst[i:i+10], sep = ' ')"
   ]
  },
  {
   "cell_type": "markdown",
   "id": "f25dba3c",
   "metadata": {},
   "source": [
    "# 100"
   ]
  },
  {
   "cell_type": "code",
   "execution_count": 33,
   "id": "93ee88d1",
   "metadata": {},
   "outputs": [
    {
     "name": "stdout",
     "output_type": "stream",
     "text": [
      "5 3\n",
      "6 2\n",
      "7 2\n",
      "5 3\n",
      "5 4\n",
      "0 4\n",
      "0 6\n",
      "0 0\n",
      "3\n"
     ]
    }
   ],
   "source": [
    "scores = []\n",
    "while True :\n",
    "    first, second = input().split()\n",
    "    first, second = int(first), int(second)\n",
    "    if first == 0 and second == 0 :\n",
    "        break\n",
    "    scores.append(first + second)\n",
    "for i in range(len(scores)) :\n",
    "    if scores[i] > 8 :\n",
    "        print(i + 1)\n",
    "        break"
   ]
  },
  {
   "cell_type": "markdown",
   "id": "4f629f0b",
   "metadata": {},
   "source": [
    "# 101"
   ]
  },
  {
   "cell_type": "code",
   "execution_count": 34,
   "id": "04cceac1",
   "metadata": {},
   "outputs": [
    {
     "name": "stdout",
     "output_type": "stream",
     "text": [
      "70\n"
     ]
    }
   ],
   "source": [
    "data = [4, 7, 6, 8, 11, -3, 8, 11, 5, 13]\n",
    "print(sum(data))"
   ]
  },
  {
   "cell_type": "markdown",
   "id": "cb2e683e",
   "metadata": {},
   "source": [
    "# 102"
   ]
  },
  {
   "cell_type": "code",
   "execution_count": 35,
   "id": "a7da8d78",
   "metadata": {},
   "outputs": [
    {
     "name": "stdout",
     "output_type": "stream",
     "text": [
      "20\n"
     ]
    }
   ],
   "source": [
    "data = [5, 7, 13, 11, 6, 10, 45, 11, 4, 9]\n",
    "summ = 0\n",
    "for i in data :\n",
    "    if i % 2 == 0 :\n",
    "        summ += i\n",
    "print(summ)"
   ]
  },
  {
   "cell_type": "markdown",
   "id": "837f6947",
   "metadata": {},
   "source": [
    "# 103"
   ]
  },
  {
   "cell_type": "code",
   "execution_count": 37,
   "id": "85da4282",
   "metadata": {},
   "outputs": [
    {
     "name": "stdout",
     "output_type": "stream",
     "text": [
      "2 1 2 1 2 1\n",
      "-1 0 0 1 0 7\n"
     ]
    }
   ],
   "source": [
    "chess_pcs = [1, 1, 2, 2, 2, 8]\n",
    "x = input()\n",
    "pieces = [int(i) for i in x.split()]\n",
    "needed_pcs = []\n",
    "for i in range(len(chess_pcs)) :\n",
    "    needed_pcs.append(chess_pcs[i]-pieces[i])  \n",
    "print(*needed_pcs)"
   ]
  },
  {
   "cell_type": "markdown",
   "id": "da7e5b1e",
   "metadata": {},
   "source": [
    "# 104"
   ]
  },
  {
   "cell_type": "code",
   "execution_count": 38,
   "id": "24aac15e",
   "metadata": {},
   "outputs": [
    {
     "name": "stdout",
     "output_type": "stream",
     "text": [
      "123 234 345\n",
      "1\n",
      "0\n",
      "1\n",
      "0\n",
      "0\n",
      "0\n",
      "0\n",
      "1\n",
      "0\n",
      "4\n"
     ]
    }
   ],
   "source": [
    "A, B, C = input().split()\n",
    "A, B, C = int(A), int(B), int(C)\n",
    "mul = A * B * C\n",
    "mul = str(mul)\n",
    "lst = [int(i) for i in [*mul]]\n",
    "for i in range(10) :\n",
    "    print(lst.count(i))"
   ]
  },
  {
   "cell_type": "markdown",
   "id": "1f0a21cf",
   "metadata": {},
   "source": [
    "# 105"
   ]
  },
  {
   "cell_type": "code",
   "execution_count": 39,
   "id": "63fbc758",
   "metadata": {},
   "outputs": [
    {
     "name": "stdout",
     "output_type": "stream",
     "text": [
      "2500\n"
     ]
    }
   ],
   "source": [
    "tup = tuple(range(1, 100, 2))\n",
    "summ = sum(tup)\n",
    "print(summ)"
   ]
  },
  {
   "cell_type": "markdown",
   "id": "76669ec0",
   "metadata": {},
   "source": [
    "# 106"
   ]
  },
  {
   "cell_type": "code",
   "execution_count": 40,
   "id": "c0c97a43",
   "metadata": {},
   "outputs": [
    {
     "name": "stdout",
     "output_type": "stream",
     "text": [
      "[2, 3, 4, 5, 6, 7, 8, 9, 10, 1]\n"
     ]
    }
   ],
   "source": [
    "data = [1, 2, 3, 4, 5, 6, 7, 8, 9, 10]\n",
    "temp = data[0]\n",
    "for i in range(0, len(data) - 1) :\n",
    "    data[i] = data[i + 1]\n",
    "data[-1] = temp\n",
    "print(data)"
   ]
  },
  {
   "cell_type": "markdown",
   "id": "fc08fe2f",
   "metadata": {},
   "source": [
    "# 107"
   ]
  },
  {
   "cell_type": "code",
   "execution_count": 41,
   "id": "753bbf7c",
   "metadata": {},
   "outputs": [
    {
     "name": "stdout",
     "output_type": "stream",
     "text": [
      "[10, 1, 2, 3, 4, 5, 6, 7, 8, 9]\n"
     ]
    }
   ],
   "source": [
    "data = [1, 2, 3, 4, 5, 6, 7, 8, 9, 10]\n",
    "temp = data[-1]\n",
    "for i in range(len(data) - 1, 0, -1) :\n",
    "    data[i] = data[i - 1]\n",
    "data[0] = temp\n",
    "print(data)"
   ]
  },
  {
   "cell_type": "markdown",
   "id": "054c0d25",
   "metadata": {},
   "source": [
    "# 108"
   ]
  },
  {
   "cell_type": "code",
   "execution_count": 42,
   "id": "eaf506a7",
   "metadata": {},
   "outputs": [
    {
     "name": "stdout",
     "output_type": "stream",
     "text": [
      "20211224\n",
      "2021Y 12M 24D\n"
     ]
    }
   ],
   "source": [
    "x = input()\n",
    "print('{:0>4}Y {:0>2}M {:0>2}D'.format(x[:4], x[4:6], x[6:]))"
   ]
  },
  {
   "cell_type": "markdown",
   "id": "4b0d5535",
   "metadata": {},
   "source": [
    "# 109"
   ]
  },
  {
   "cell_type": "code",
   "execution_count": 43,
   "id": "fbb525c9",
   "metadata": {},
   "outputs": [
    {
     "name": "stdout",
     "output_type": "stream",
     "text": [
      "4 2\n",
      "0 0 0 0\n",
      "0\n"
     ]
    }
   ],
   "source": [
    "N, K = input().split()\n",
    "N, K = int(N), int(K)\n",
    "x = input()\n",
    "scores = [int(i) for i in x.split()]\n",
    "count = 0\n",
    "for i in scores :\n",
    "    if i > K :\n",
    "        count += 1\n",
    "print(count)"
   ]
  },
  {
   "cell_type": "markdown",
   "id": "da3f8836",
   "metadata": {},
   "source": [
    "# 110"
   ]
  },
  {
   "cell_type": "code",
   "execution_count": 76,
   "id": "1f677bf0",
   "metadata": {},
   "outputs": [
    {
     "name": "stdout",
     "output_type": "stream",
     "text": [
      "10\n",
      "3\n",
      "4\n",
      "6\n",
      "2\n",
      "28\n"
     ]
    }
   ],
   "source": [
    "X = int(input())\n",
    "N = int(input())\n",
    "available = X\n",
    "for i in range(N) :\n",
    "    data_used = int(input())\n",
    "    available = available - data_used + X\n",
    "print(available)"
   ]
  },
  {
   "cell_type": "markdown",
   "id": "bbe84a36",
   "metadata": {},
   "source": [
    "# 111"
   ]
  },
  {
   "cell_type": "code",
   "execution_count": 44,
   "id": "da4df274",
   "metadata": {},
   "outputs": [
    {
     "name": "stdout",
     "output_type": "stream",
     "text": [
      "6\n",
      "5 2 4 1 7 5\n",
      "5\n"
     ]
    }
   ],
   "source": [
    "N = int(input())\n",
    "a = input()\n",
    "stack = [int(i) for i in a.split()]\n",
    "avg_height = sum(stack) // N\n",
    "needed_block = 0\n",
    "for i in stack :\n",
    "    if i < avg_height :\n",
    "        needed_block += avg_height - i\n",
    "print(needed_block)"
   ]
  },
  {
   "cell_type": "markdown",
   "id": "7e170400",
   "metadata": {},
   "source": [
    "# 112"
   ]
  },
  {
   "cell_type": "code",
   "execution_count": 45,
   "id": "8292d996",
   "metadata": {},
   "outputs": [
    {
     "name": "stdout",
     "output_type": "stream",
     "text": [
      "5\n",
      "1 3 3 4 5\n",
      "1 5 3 7 9 "
     ]
    }
   ],
   "source": [
    "N = int(input())\n",
    "b = input()\n",
    "B = [int(i) for i in b.split()]\n",
    "prev = 0\n",
    "result = 0\n",
    "lst = []\n",
    "for i in range(1, N + 1) :\n",
    "    result = B[i-1] * i - prev\n",
    "    prev = B[i-1] * i\n",
    "    lst.append(result)\n",
    "for i in lst :\n",
    "    print(i, end = ' ')"
   ]
  },
  {
   "cell_type": "markdown",
   "id": "bc4cd327",
   "metadata": {},
   "source": [
    "# 113"
   ]
  },
  {
   "cell_type": "code",
   "execution_count": 46,
   "id": "c1671a92",
   "metadata": {},
   "outputs": [
    {
     "name": "stdout",
     "output_type": "stream",
     "text": [
      "1 4 3 2 9 7 18 22 0\n",
      "3\n"
     ]
    }
   ],
   "source": [
    "a = input()\n",
    "count = 0\n",
    "A = [int(i) for i in a.split()]\n",
    "lst = [i for i in A if i != 0]\n",
    "for i in lst :\n",
    "    if i * 2 in lst :\n",
    "        count += 1\n",
    "print(count)"
   ]
  },
  {
   "cell_type": "markdown",
   "id": "d0cc2e2d",
   "metadata": {},
   "source": [
    "# 114"
   ]
  },
  {
   "cell_type": "code",
   "execution_count": 47,
   "id": "6d6960c1",
   "metadata": {},
   "outputs": [
    {
     "name": "stdout",
     "output_type": "stream",
     "text": [
      "24 2\n",
      "1 1\n",
      "1 2\n",
      "2 1\n",
      "2 2\n",
      "3 1\n",
      "3 2\n",
      "4 1\n",
      "4 2\n",
      "6 1\n",
      "6 2\n",
      "8 1\n",
      "8 2\n",
      "12 1\n",
      "12 2\n",
      "24 1\n",
      "24 2\n"
     ]
    }
   ],
   "source": [
    "P, Q = input().split()\n",
    "P, Q = int(P), int(Q)\n",
    "for i in range(1, P + 1) :\n",
    "    if P % i == 0 :\n",
    "        for j in range(1, Q + 1) :\n",
    "            print(i, j)"
   ]
  },
  {
   "cell_type": "markdown",
   "id": "f84decb2",
   "metadata": {},
   "source": [
    "# 115"
   ]
  },
  {
   "cell_type": "code",
   "execution_count": 48,
   "id": "fec3d2bc",
   "metadata": {},
   "outputs": [
    {
     "name": "stdout",
     "output_type": "stream",
     "text": [
      "123 45\n",
      "54\n"
     ]
    }
   ],
   "source": [
    "a, b = input().split()\n",
    "A = [int(i) for i in a]\n",
    "B = [int(i) for i in b]\n",
    "summ = 0\n",
    "for i in A :\n",
    "    for j in B :\n",
    "        summ += i * j\n",
    "print(summ)"
   ]
  },
  {
   "cell_type": "markdown",
   "id": "07e45c11",
   "metadata": {},
   "source": [
    "# 116"
   ]
  },
  {
   "cell_type": "code",
   "execution_count": 49,
   "id": "5674ae51",
   "metadata": {},
   "outputs": [
    {
     "name": "stdout",
     "output_type": "stream",
     "text": [
      "77\n",
      "-99\n",
      "98\n"
     ]
    }
   ],
   "source": [
    "data = [7, -5, 4, -99, 45, 11, 0, 8, 50, 77]\n",
    "print(max(data))\n",
    "print(min(data))\n",
    "print(sum(data))"
   ]
  },
  {
   "cell_type": "markdown",
   "id": "2b082f78",
   "metadata": {},
   "source": [
    "# 117"
   ]
  },
  {
   "cell_type": "code",
   "execution_count": 50,
   "id": "cf7647d9",
   "metadata": {},
   "outputs": [
    {
     "name": "stdout",
     "output_type": "stream",
     "text": [
      "10\n",
      "20\n",
      "30\n",
      "40\n",
      "50\n",
      "60\n",
      "70\n",
      "80\n",
      "90\n",
      "90\n",
      "9\n"
     ]
    }
   ],
   "source": [
    "lst = []\n",
    "for i in range(9) :\n",
    "    x = int(input())\n",
    "    lst.append(x)\n",
    "maximum = max(lst)\n",
    "print(maximum)\n",
    "print(lst.index(maximum) + 1)"
   ]
  },
  {
   "cell_type": "markdown",
   "id": "b9ba696b",
   "metadata": {},
   "source": [
    "# 118"
   ]
  },
  {
   "cell_type": "code",
   "execution_count": 51,
   "id": "a85c5dcf",
   "metadata": {},
   "outputs": [
    {
     "name": "stdout",
     "output_type": "stream",
     "text": [
      "4 4 3 3 \n",
      "5 4 3 5\n",
      "5 5 2 4\n",
      "5 5 5 1\n",
      "4 4 4 4\n",
      "2 17\n"
     ]
    }
   ],
   "source": [
    "winner = []\n",
    "for i in range(5) :\n",
    "    x = input()\n",
    "    scores = [int(j) for j in x.split()]\n",
    "    winner.append(sum(scores))\n",
    "maximum = max(winner)\n",
    "print(winner.index(maximum) + 1, maximum)"
   ]
  },
  {
   "cell_type": "markdown",
   "id": "709d72d9",
   "metadata": {},
   "source": [
    "# 119"
   ]
  },
  {
   "cell_type": "code",
   "execution_count": 52,
   "id": "2862801e",
   "metadata": {},
   "outputs": [
    {
     "name": "stdout",
     "output_type": "stream",
     "text": [
      "5\n",
      "512\n",
      "532\n",
      "532\n",
      "585\n",
      "599\n",
      "532\n"
     ]
    }
   ],
   "source": [
    "N = int(input())\n",
    "lst = []\n",
    "for i in range(N) :\n",
    "    x = int(input())\n",
    "    lst.append(x)\n",
    "most = lst[0]\n",
    "for i in lst :\n",
    "    if lst.count(most) < lst.count(i) :\n",
    "        most = i\n",
    "print(most)"
   ]
  },
  {
   "cell_type": "markdown",
   "id": "958804b1",
   "metadata": {},
   "source": [
    "# 120"
   ]
  },
  {
   "cell_type": "code",
   "execution_count": 77,
   "id": "d0a11526",
   "metadata": {},
   "outputs": [
    {
     "name": "stdout",
     "output_type": "stream",
     "text": [
      "3\n",
      "3\n",
      "2 -1 1\n",
      "9\n"
     ]
    }
   ],
   "source": [
    "children = int(input())\n",
    "expo = int(input())\n",
    "summ = 0\n",
    "sons = []\n",
    "x = input()\n",
    "sons = [int(i) for i in x.split()]\n",
    "for i in sons :\n",
    "    if i > 0 :\n",
    "        summ += i\n",
    "print(summ * expo)"
   ]
  },
  {
   "cell_type": "markdown",
   "id": "16509d22",
   "metadata": {},
   "source": [
    "# 121"
   ]
  },
  {
   "cell_type": "code",
   "execution_count": 78,
   "id": "6df311ae",
   "metadata": {},
   "outputs": [
    {
     "name": "stdout",
     "output_type": "stream",
     "text": [
      "3 2 3\n",
      "5\n"
     ]
    }
   ],
   "source": [
    "S1, S2, S3 = input().split()\n",
    "S1, S2, S3 = int(S1), int(S2), int(S3)\n",
    "possible = []\n",
    "for i in range(1, S1 + 1) :\n",
    "    for j in range(1, S2 + 1) :\n",
    "        for k in range(1, S3 + 1) :\n",
    "            possible.append(i+j+k)\n",
    "possible.sort()\n",
    "most_frequency = possible[0]\n",
    "for i in range(len(possible)) :\n",
    "    if possible.count(most_frequency) < possible.count(possible[i]) : \n",
    "        most_frequency = possible[i]\n",
    "print(most_frequency)"
   ]
  },
  {
   "cell_type": "markdown",
   "id": "c0b29afa",
   "metadata": {},
   "source": [
    "# 122"
   ]
  },
  {
   "cell_type": "code",
   "execution_count": 53,
   "id": "427706e2",
   "metadata": {},
   "outputs": [
    {
     "name": "stdout",
     "output_type": "stream",
     "text": [
      "100\n",
      "3\n",
      "5 75 25\n",
      "2 3\n"
     ]
    }
   ],
   "source": [
    "C = int(input())\n",
    "N = int(input())\n",
    "x = input()\n",
    "price = [int(i) for i in x.split()]\n",
    "for i in range(len(price)) :\n",
    "    for j in range(i, len(price)) :\n",
    "        if price[i] + price[j] == C :\n",
    "            print(i + 1, j + 1)\n",
    "            break"
   ]
  },
  {
   "cell_type": "markdown",
   "id": "74997182",
   "metadata": {},
   "source": [
    "# 123"
   ]
  },
  {
   "cell_type": "code",
   "execution_count": 55,
   "id": "68d17ae9",
   "metadata": {},
   "outputs": [
    {
     "name": "stdout",
     "output_type": "stream",
     "text": [
      "2\n",
      "60 1\n",
      "30 5\n",
      "180\n"
     ]
    }
   ],
   "source": [
    "N = int(input())\n",
    "speed = []\n",
    "total_elapsed = [0]\n",
    "for i in range(N) :\n",
    "    x, y = input().split()\n",
    "    speed.append(int(x))\n",
    "    total_elapsed.append(int(y))\n",
    "summ = 0\n",
    "for i in range(N) :\n",
    "    summ += speed[i] * (total_elapsed[i + 1]-total_elapsed[i])\n",
    "print(summ)"
   ]
  },
  {
   "cell_type": "markdown",
   "id": "3f4f815b",
   "metadata": {},
   "source": [
    "# 124"
   ]
  },
  {
   "cell_type": "code",
   "execution_count": 56,
   "id": "07778bb5",
   "metadata": {
    "scrolled": false
   },
   "outputs": [
    {
     "name": "stdout",
     "output_type": "stream",
     "text": [
      "3\n",
      "1\n",
      "4\n",
      "5\n",
      "7\n",
      "9\n",
      "6\n",
      "10\n",
      "11\n",
      "12\n",
      "13\n",
      "14\n",
      "15\n",
      "16\n",
      "17\n",
      "18\n",
      "19\n",
      "20\n",
      "21\n",
      "22\n",
      "23\n",
      "24\n",
      "25\n",
      "26\n",
      "27\n",
      "28\n",
      "29\n",
      "30\n",
      "2\n",
      "8\n"
     ]
    }
   ],
   "source": [
    "lst = []\n",
    "unfinish = []\n",
    "for i in range(28) :\n",
    "    x = int(input())\n",
    "    lst.append(x)\n",
    "for j in range(1, 31) :\n",
    "    if j not in lst :\n",
    "        unfinish.append(j)\n",
    "for k in unfinish :\n",
    "    print(k)"
   ]
  },
  {
   "cell_type": "markdown",
   "id": "7ccf6ae2",
   "metadata": {},
   "source": [
    "# 125"
   ]
  },
  {
   "cell_type": "code",
   "execution_count": 58,
   "id": "761922bc",
   "metadata": {},
   "outputs": [
    {
     "name": "stdout",
     "output_type": "stream",
     "text": [
      "42\n",
      "84\n",
      "252\n",
      "420\n",
      "840\n",
      "126\n",
      "42\n",
      "84\n",
      "420\n",
      "126\n",
      "1\n"
     ]
    }
   ],
   "source": [
    "remainder = []\n",
    "for i in range(10) :\n",
    "    A = int(input())\n",
    "    r = A % 42\n",
    "    if r not in remainder :\n",
    "        remainder.append(r)\n",
    "print(len(remainder))"
   ]
  },
  {
   "cell_type": "markdown",
   "id": "187ef710",
   "metadata": {},
   "source": [
    "# 126"
   ]
  },
  {
   "cell_type": "code",
   "execution_count": 59,
   "id": "b087c2a3",
   "metadata": {},
   "outputs": [
    {
     "name": "stdout",
     "output_type": "stream",
     "text": [
      "30 3\n",
      "1 3\n",
      "3 7\n",
      "1 4\n",
      "13\n"
     ]
    }
   ],
   "source": [
    "a, N = input().split()\n",
    "a, N = int(a), int(N)\n",
    "Slots = [0] * (a)\n",
    "count = 1\n",
    "for _ in range(N) :\n",
    "    start, interval = input().split()\n",
    "    start, interval = int(start), int(interval)\n",
    "    for j in range(start - 1, len(Slots), interval) :\n",
    "        if Slots[j] == 0 :\n",
    "            Slots[j] = count\n",
    "    count += 1\n",
    "print(Slots.count(0))"
   ]
  },
  {
   "cell_type": "markdown",
   "id": "6b78fd03",
   "metadata": {},
   "source": [
    "# 127"
   ]
  },
  {
   "cell_type": "code",
   "execution_count": 60,
   "id": "9e9eac0e",
   "metadata": {},
   "outputs": [
    {
     "name": "stdout",
     "output_type": "stream",
     "text": [
      "4 5\n",
      "0 1 2\n",
      "0 2 4\n",
      "1 2 3\n",
      "1\n",
      "0 2 4\n",
      "1 1 4\n",
      "2\n"
     ]
    }
   ],
   "source": [
    "N, M = input().split()\n",
    "N, M = int(N), int(M)\n",
    "light = [0] * (N + 1)\n",
    "for i in range(M) :\n",
    "    Op, S_i, E_i = input().split()\n",
    "    Op, S_i, E_i = int(Op), int(S_i), int(E_i)\n",
    "    if Op == 0 :\n",
    "        for j in range(S_i, E_i + 1) :\n",
    "            if light[j] == 0 :\n",
    "                light[j] = 1\n",
    "            elif light[j] == 1 :\n",
    "                light[j] = 0\n",
    "    elif Op == 1 :\n",
    "        count = 0\n",
    "        for j in range(S_i, E_i + 1) :\n",
    "            if light[j] == 1 :\n",
    "                count += 1\n",
    "        print(count)"
   ]
  },
  {
   "cell_type": "markdown",
   "id": "66316569",
   "metadata": {},
   "source": [
    "# 128"
   ]
  },
  {
   "cell_type": "code",
   "execution_count": 63,
   "id": "fbc0c06d",
   "metadata": {},
   "outputs": [
    {
     "name": "stdout",
     "output_type": "stream",
     "text": [
      "13\n",
      "2\n",
      "10\n",
      "1\n",
      "2\n",
      "1\n"
     ]
    }
   ],
   "source": [
    "N = int(input())\n",
    "M = int(input())\n",
    "K = int(input())\n",
    "light = [0] * (N + 1)\n",
    "for i in range(M) :\n",
    "    x = int(input())\n",
    "    for j in range(x - K, x + 1 + K) :\n",
    "        if j >= 1 and j <= N :\n",
    "            light[j] = 1\n",
    "count = 0\n",
    "for i in range(1, N + 1) :\n",
    "    if light[i] == 0 :\n",
    "        count += 1\n",
    "        for j in range(i, min(K * 2 + i, N) + 1) :\n",
    "            light[j] = 1\n",
    "print(count)"
   ]
  },
  {
   "cell_type": "markdown",
   "id": "91369459",
   "metadata": {},
   "source": [
    "# 129"
   ]
  },
  {
   "cell_type": "code",
   "execution_count": 64,
   "id": "a42ec326",
   "metadata": {},
   "outputs": [
    {
     "name": "stdout",
     "output_type": "stream",
     "text": [
      "5 2\n",
      "1 2\n",
      "4 5\n",
      "2\n"
     ]
    }
   ],
   "source": [
    "L, M = input().split()\n",
    "L, M = int(L), int(M)\n",
    "tree = [1] * (L + 1)\n",
    "for _ in range(M) :\n",
    "    start, end = input().split()\n",
    "    start, end = int(start), int(end)\n",
    "    for i in range(start, end + 1) :\n",
    "        tree[i] = 0 \n",
    "print(tree.count(1))"
   ]
  },
  {
   "cell_type": "markdown",
   "id": "af2b1528",
   "metadata": {},
   "source": [
    "# 130"
   ]
  },
  {
   "cell_type": "code",
   "execution_count": 84,
   "id": "9af2b660",
   "metadata": {},
   "outputs": [
    {
     "name": "stdout",
     "output_type": "stream",
     "text": [
      "10 8 6\n",
      "15 30\n",
      "25 50\n",
      "70 80\n",
      "480\n"
     ]
    }
   ],
   "source": [
    "A, B, C = input().split()\n",
    "A, B, C = int(A), int(B), int(C)\n",
    "total = [0] + [0] * 100\n",
    "for i in range(3) :\n",
    "    start, end = input().split()\n",
    "    start, end = int(start), int(end)\n",
    "    for i in range(start, end) :\n",
    "        if total[i] == 0 :\n",
    "            total[i] = 'car1'\n",
    "        elif total[i] == 'car1' :\n",
    "            total[i] = 'car2'\n",
    "        elif total[i] == 'car2' :\n",
    "            total[i] = 'car3'\n",
    "for i in range(len(total)-1) :\n",
    "    if total[i] == 'car1' :\n",
    "        total[i] = A * 1\n",
    "    elif total[i] == 'car2' :\n",
    "        total[i] = B * 2\n",
    "    elif total[i] == 'car3' :\n",
    "        total[i] = C * 3\n",
    "print(sum(total))"
   ]
  },
  {
   "cell_type": "markdown",
   "id": "ffa55afd",
   "metadata": {},
   "source": [
    "# 131"
   ]
  },
  {
   "cell_type": "code",
   "execution_count": 65,
   "id": "1f86d41f",
   "metadata": {},
   "outputs": [
    {
     "name": "stdout",
     "output_type": "stream",
     "text": [
      "3\n",
      "5 9\n",
      "1 10\n",
      "3 8\n",
      "350\n",
      "550\n",
      "330\n"
     ]
    }
   ],
   "source": [
    "a = [10, 20, 30, 40, 50, 60, 70, 80, 90, 100]\n",
    "T = int(input())\n",
    "case = []\n",
    "for _ in range(T) :\n",
    "    summ = 0\n",
    "    A, B = input().split()\n",
    "    A, B = int(A), int(B)\n",
    "    for i in range(A * 10 , B * 10 + 1, 10) :\n",
    "        summ += i\n",
    "    case.append(summ)\n",
    "for i in case :\n",
    "    print(i)"
   ]
  },
  {
   "cell_type": "markdown",
   "id": "99cb710d",
   "metadata": {},
   "source": [
    "# 132"
   ]
  },
  {
   "cell_type": "code",
   "execution_count": 79,
   "id": "ad4836ee",
   "metadata": {},
   "outputs": [
    {
     "name": "stdout",
     "output_type": "stream",
     "text": [
      "4 2\n",
      "5\n",
      "8\n",
      "12\n",
      "6\n",
      "1 3\n",
      "2 4\n",
      "25\n",
      "26\n"
     ]
    }
   ],
   "source": [
    "N, Q = input().split()\n",
    "N, Q = int(N), int(Q)\n",
    "H_i = []\n",
    "answer = []\n",
    "summ = 0\n",
    "for i in range(N) :\n",
    "    x = int(input())\n",
    "    H_i.append(x)\n",
    "for j in range(Q) :\n",
    "    S_i, E_i = input().split()\n",
    "    S_i, E_i = int(S_i), int(E_i)\n",
    "    for k in range(S_i, E_i + 1) :\n",
    "        summ += H_i[k-1]\n",
    "    answer.append(summ)\n",
    "    summ = 0\n",
    "print(*answer, sep = '\\n')"
   ]
  },
  {
   "cell_type": "markdown",
   "id": "2894b775",
   "metadata": {},
   "source": [
    "# 133"
   ]
  },
  {
   "cell_type": "code",
   "execution_count": 67,
   "id": "f9d2e0a5",
   "metadata": {},
   "outputs": [
    {
     "name": "stdout",
     "output_type": "stream",
     "text": [
      "5 3\n",
      "2\n",
      "5\n",
      "-4\n",
      "10\n",
      "3\n",
      "11\n"
     ]
    }
   ],
   "source": [
    "N, K = input().split()\n",
    "N, K = int(N), int(K)\n",
    "lst = []\n",
    "for i in range(N) :\n",
    "    x = int(input())\n",
    "    lst.append(x)\n",
    "Si = []\n",
    "summ = 0\n",
    "count = 0\n",
    "for i in range(len(lst)) :\n",
    "    if i + K > N :\n",
    "        break\n",
    "    \n",
    "    for j in range(K) :\n",
    "        summ += lst[i + j]\n",
    "    Si.append(summ)\n",
    "    summ = 0\n",
    "print(max(Si))"
   ]
  },
  {
   "cell_type": "markdown",
   "id": "a676fe09",
   "metadata": {},
   "source": [
    "# 134"
   ]
  },
  {
   "cell_type": "code",
   "execution_count": 68,
   "id": "6eca9836",
   "metadata": {},
   "outputs": [
    {
     "name": "stdout",
     "output_type": "stream",
     "text": [
      "4\n",
      "+\n",
      "5\n",
      "*\n",
      "9\n",
      "81\n"
     ]
    }
   ],
   "source": [
    "while True :\n",
    "    A = int(input())\n",
    "    Op1 = input()\n",
    "    B = int(input())\n",
    "    Op2 = input()\n",
    "    C = int(input())\n",
    "    if 1 <= A <= 1000 and 1 <= B <= 1000 and 1 <= C <= 1000:\n",
    "        break\n",
    "    else :\n",
    "        print('A, B, C must be bigger than 0 and smaller or equal than 1000.')\n",
    "if Op1 == '+' :\n",
    "    perform1 = A + B\n",
    "elif Op1 == '-' :\n",
    "    perform1 = A - B\n",
    "elif Op1 == '*' :\n",
    "    perform1 = A * B\n",
    "elif Op1 == '/' :\n",
    "    perform1 = A // B\n",
    "if Op2 == '+' :\n",
    "    perform2 = perform1 + C\n",
    "elif Op2 == '-' :\n",
    "    perform2 = perform1 - C\n",
    "elif Op2 == '*' :\n",
    "    perform2 = perform1 * C\n",
    "elif Op2 == '/' :\n",
    "    perform2 = perform1 // C\n",
    "print(perform2)"
   ]
  },
  {
   "cell_type": "markdown",
   "id": "ad85236f",
   "metadata": {},
   "source": [
    "# 135"
   ]
  },
  {
   "cell_type": "code",
   "execution_count": 118,
   "id": "5e81a48c",
   "metadata": {},
   "outputs": [
    {
     "name": "stdout",
     "output_type": "stream",
     "text": [
      "13 5 3 2 1\n",
      "u\n",
      "f\n",
      "u\n",
      "d\n",
      "f\n",
      "3\n"
     ]
    }
   ],
   "source": [
    "M, T, U, F, D = input().split()\n",
    "M, T, U, F, D = int(M), int(T), int(U), int(F), int(D)\n",
    "path = []\n",
    "for i in range(T) :\n",
    "    x = input()\n",
    "    if x == 'u' :\n",
    "        path.append(U)\n",
    "    elif x == 'f' :\n",
    "        path.append(F)\n",
    "    elif x == 'd' :\n",
    "        path.append(D)\n",
    "count = 0\n",
    "for i in range(1, len(path)+1) :\n",
    "    if M < 0 :\n",
    "        print(path.index(path[i-1]))\n",
    "        break\n",
    "    M -= path[i-1]\n",
    "    if i == len(path) :\n",
    "        for j in range(len(path), 0, -1):\n",
    "            M -= path[j-1]\n",
    "            if M < 0 :\n",
    "                print(path.index(path[j-1]))\n",
    "                break   "
   ]
  },
  {
   "cell_type": "markdown",
   "id": "203d52fe",
   "metadata": {},
   "source": [
    "# 136"
   ]
  },
  {
   "cell_type": "code",
   "execution_count": 85,
   "id": "e464f94e",
   "metadata": {
    "scrolled": true
   },
   "outputs": [
    {
     "name": "stdout",
     "output_type": "stream",
     "text": [
      "1 3 3 1 1 1 7 7 7 7\n",
      "7\n",
      "4\n"
     ]
    }
   ],
   "source": [
    "x = input()\n",
    "lst = [int(i) for i in x.split()]\n",
    "start = []\n",
    "end = []\n",
    "compare = []\n",
    "count = []\n",
    "for i in range(len(lst)-1, -1, -1) :\n",
    "    if lst[i] != lst[i-1] :\n",
    "        start.append(i+1)     \n",
    "start.reverse()\n",
    "for i in range(len(lst)-1) :\n",
    "    if lst[i] != lst[i+1] :\n",
    "        end.append(i+1)\n",
    "        compare.append(lst[i+1])       \n",
    "compare.insert(0, lst[0])\n",
    "end.append(len(lst))\n",
    "for i in range(len(start)) :\n",
    "    count.append(end[i] - start[i] + 1)\n",
    "maximum = max(count)\n",
    "for i in range(len(count)) :\n",
    "    if maximum == count[i] :\n",
    "        print(compare[i])\n",
    "print(maximum)"
   ]
  },
  {
   "cell_type": "markdown",
   "id": "7b16dd5d",
   "metadata": {},
   "source": [
    "# 137"
   ]
  },
  {
   "cell_type": "code",
   "execution_count": 87,
   "id": "da988e85",
   "metadata": {},
   "outputs": [
    {
     "name": "stdout",
     "output_type": "stream",
     "text": [
      "6\n",
      "1 0 0 1 1 1\n",
      "2\n"
     ]
    }
   ],
   "source": [
    "N = int(input())\n",
    "x = input()\n",
    "beads = [int(i) for i in x.split()]\n",
    "count = 0\n",
    "for i in range(len(beads) - 1) :\n",
    "    if beads[i] != beads[i+1] :\n",
    "        beads[i], beads[i+1] = beads[i+1], beads[i]\n",
    "        count += 1\n",
    "print(count)"
   ]
  },
  {
   "cell_type": "markdown",
   "id": "0c5528c9",
   "metadata": {},
   "source": [
    "# 138"
   ]
  },
  {
   "cell_type": "code",
   "execution_count": 86,
   "id": "8e7c1fa4",
   "metadata": {},
   "outputs": [
    {
     "name": "stdout",
     "output_type": "stream",
     "text": [
      "1 2 3 4 5 6 7 8\n",
      "ascending\n"
     ]
    }
   ],
   "source": [
    "x = input()\n",
    "lst = [int(i) for i in x.split()]\n",
    "count = 0\n",
    "if count == 0 :\n",
    "    for i in range(len(lst)-1) :\n",
    "        if lst[i] + 1 != lst[i+1] :\n",
    "            count += 1\n",
    "            break\n",
    "    else :\n",
    "        print('ascending')\n",
    "    for j in range(len(lst)-1) :\n",
    "        if lst[j] - 1 != lst[j+1] :\n",
    "            count += 1\n",
    "            break\n",
    "    else :\n",
    "        print('descending') \n",
    "if count == 2 :\n",
    "    print('mixed')"
   ]
  },
  {
   "cell_type": "markdown",
   "id": "40a7d7ca",
   "metadata": {},
   "source": [
    "# 139"
   ]
  },
  {
   "cell_type": "code",
   "execution_count": 74,
   "id": "4f3b4145",
   "metadata": {},
   "outputs": [
    {
     "name": "stdout",
     "output_type": "stream",
     "text": [
      "6\n",
      "C\n",
      "C\n",
      "P\n",
      "C\n",
      "Z\n",
      "Z\n",
      "5\n"
     ]
    }
   ],
   "source": [
    "N = int(input())\n",
    "people = []\n",
    "for _ in range(N) :\n",
    "    x = input()\n",
    "    people.append(x)\n",
    "    \n",
    "count = 1\n",
    "for i in range(len(people)-1) :\n",
    "    if people[i] != people[i+1] :\n",
    "        count += 1\n",
    "        \n",
    "print(count+1)"
   ]
  },
  {
   "cell_type": "markdown",
   "id": "00d3e469",
   "metadata": {},
   "source": [
    "# 140"
   ]
  },
  {
   "cell_type": "code",
   "execution_count": 75,
   "id": "c1dab4ff",
   "metadata": {},
   "outputs": [
    {
     "name": "stdout",
     "output_type": "stream",
     "text": [
      "7\n",
      "0 0\n",
      "1 0\n",
      "1 1\n",
      "0 0\n",
      "0 0\n",
      "0 0\n",
      "0 1\n",
      "6\n"
     ]
    }
   ],
   "source": [
    "N = int(input())\n",
    "count = 0\n",
    "for i in range(N) :\n",
    "    l1, l2 = input().split()\n",
    "    l1, l2 = int(l1), int(l2)\n",
    "    if l1 == 0 or l2 == 0 :\n",
    "        count += 1\n",
    "print(count)"
   ]
  }
 ],
 "metadata": {
  "kernelspec": {
   "display_name": "Python 3 (ipykernel)",
   "language": "python",
   "name": "python3"
  },
  "language_info": {
   "codemirror_mode": {
    "name": "ipython",
    "version": 3
   },
   "file_extension": ".py",
   "mimetype": "text/x-python",
   "name": "python",
   "nbconvert_exporter": "python",
   "pygments_lexer": "ipython3",
   "version": "3.10.9"
  }
 },
 "nbformat": 4,
 "nbformat_minor": 5
}

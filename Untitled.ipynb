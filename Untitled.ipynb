{
 "cells": [
  {
   "cell_type": "code",
   "execution_count": 1,
   "id": "3dfe522d",
   "metadata": {},
   "outputs": [
    {
     "name": "stdout",
     "output_type": "stream",
     "text": [
      "15\n"
     ]
    }
   ],
   "source": [
    "print(1 + 2 + 3 + 4 + 5)"
   ]
  },
  {
   "cell_type": "code",
   "execution_count": 2,
   "id": "8c2e48fc",
   "metadata": {},
   "outputs": [
    {
     "name": "stdout",
     "output_type": "stream",
     "text": [
      "****************************************\n",
      "# # # # # # # # # # # # # # # # # # # # \n"
     ]
    }
   ],
   "source": [
    "print('*' * 40)\n",
    "print('# ' * 20)"
   ]
  },
  {
   "cell_type": "code",
   "execution_count": 5,
   "id": "217622a7",
   "metadata": {},
   "outputs": [
    {
     "name": "stdout",
     "output_type": "stream",
     "text": [
      "Enter two integers: 14 10\n",
      "10 14\n"
     ]
    }
   ],
   "source": [
    "a, b =input('Enter two integers: ').split()\n",
    "a, b = int(a), int(b)\n",
    "\n",
    "if a > b :\n",
    "    a, b = b, a\n",
    "\n",
    "print(a, b)"
   ]
  },
  {
   "cell_type": "code",
   "execution_count": 9,
   "id": "b0bf907d",
   "metadata": {},
   "outputs": [
    {
     "name": "stdout",
     "output_type": "stream",
     "text": [
      "2 is a prime number.\n",
      "3 is a prime number.\n",
      "4 is a composite number.\n",
      "5 is a prime number.\n",
      "6 is a composite number.\n",
      "7 is a prime number.\n",
      "8 is a composite number.\n",
      "9 is a composite number.\n",
      "10 is a composite number.\n",
      "11 is a prime number.\n",
      "12 is a composite number.\n"
     ]
    }
   ],
   "source": [
    "for i in range(2, 13) :\n",
    "    count = 0\n",
    "    for j in range(1, i + 1) :\n",
    "        if i % j == 0 :\n",
    "            count += 1\n",
    "            \n",
    "    if count == 2 :\n",
    "        print(i, 'is a prime number.')\n",
    "    else :\n",
    "        print(i, 'is a composite number.')"
   ]
  },
  {
   "cell_type": "markdown",
   "id": "9a0171f3",
   "metadata": {},
   "source": [
    "# 5"
   ]
  },
  {
   "cell_type": "code",
   "execution_count": 192,
   "id": "88ba996a",
   "metadata": {},
   "outputs": [
    {
     "name": "stdout",
     "output_type": "stream",
     "text": [
      "Three-digit Amstrong numbers: 153 370 371 407\n"
     ]
    }
   ],
   "source": [
    "amstrong = []\n",
    "\n",
    "for i in range(100, 1000) :\n",
    "    result = 0\n",
    "    x = i\n",
    "    temp = str(x)\n",
    "    temp = list(temp)\n",
    "    \n",
    "    for j in range(len(temp)) :\n",
    "        y = temp[j] \n",
    "        y = int(y)\n",
    "        result += pow(y, 3)\n",
    "    \n",
    "    if result == i :\n",
    "        amstrong.append(result)\n",
    "        \n",
    "print('Three-digit Amstrong numbers: ', end = '')\n",
    "print(*amstrong)"
   ]
  },
  {
   "cell_type": "code",
   "execution_count": 197,
   "id": "d598f658",
   "metadata": {},
   "outputs": [
    {
     "name": "stdout",
     "output_type": "stream",
     "text": [
      "153\n",
      "370\n",
      "371\n",
      "407\n"
     ]
    }
   ],
   "source": [
    "for i in range(100, 1000) :\n",
    "    num = list(str(i))\n",
    "    summ = int(num[0])**3 + int(num[1]) ** 3 + int(num[2]) ** 3\n",
    "    if summ == i :\n",
    "        print(summ)"
   ]
  },
  {
   "cell_type": "code",
   "execution_count": null,
   "id": "234b99d4",
   "metadata": {},
   "outputs": [],
   "source": [
    "li = 100\n",
    "li = str(li)\n",
    "x = list(li)\n",
    "\n",
    "for i in range(len(x)) :\n",
    "    x[i] = int(x[i])\n",
    "\n",
    "print(x)"
   ]
  },
  {
   "cell_type": "code",
   "execution_count": 29,
   "id": "7b2647d2",
   "metadata": {},
   "outputs": [
    {
     "name": "stdout",
     "output_type": "stream",
     "text": [
      "I like pancake.\n",
      "I like kiwi juice.\n",
      "I like expresso.\n",
      "I love pancake.\n",
      "I love kiwi juice.\n",
      "I love expresso.\n"
     ]
    }
   ],
   "source": [
    "l1 = ['I like', 'I love']\n",
    "l2 = ['Pancake', 'Kiwi Juice', 'Expresso']\n",
    "\n",
    "for i in range(len(l1)) :\n",
    "    for j in range(len(l2)) :\n",
    "        print('{} {}.'.format(l1[i], l2[j].lower()))"
   ]
  },
  {
   "cell_type": "markdown",
   "id": "83cfb14b",
   "metadata": {},
   "source": [
    "# 7"
   ]
  },
  {
   "cell_type": "code",
   "execution_count": 41,
   "id": "eff0defa",
   "metadata": {},
   "outputs": [
    {
     "name": "stdout",
     "output_type": "stream",
     "text": [
      "Given list =  [5, 6, 3, 9, 2, 12, 3, 8, 7]\n",
      "Result list =  [5, 3, 6, 2, 9, 3, 8, 7, 12]\n"
     ]
    }
   ],
   "source": [
    "lst = [5, 6, 3, 9, 2, 12, 3, 8, 7]\n",
    "\n",
    "print('Given list = ', lst)\n",
    "\n",
    "for i in range(len(lst) - 1) :\n",
    "    if lst[i] > lst[i + 1] :\n",
    "        lst[i], lst[i+1] = lst[i+1], lst[i]\n",
    "\n",
    "print('Result list = ',lst)"
   ]
  },
  {
   "cell_type": "markdown",
   "id": "d8aa57bc",
   "metadata": {},
   "source": [
    "# 8"
   ]
  },
  {
   "cell_type": "code",
   "execution_count": 76,
   "id": "5f208e9f",
   "metadata": {},
   "outputs": [
    {
     "name": "stdout",
     "output_type": "stream",
     "text": [
      "Student's average math score is 91.2\n"
     ]
    }
   ],
   "source": [
    "scores = (('Hyun', 88, 95, 90), ('Kang', 85, 90, 95), ('Park', 70, 90, 80), ('Hong', 90, 90, 95))\n",
    "overall_score = 0\n",
    "for i in scores :\n",
    "    _, _, math, _ = i\n",
    "    overall_score += math\n",
    "print('Student\\'s average math score is {:.1f}'.format(overall_score / len(scores)))"
   ]
  },
  {
   "cell_type": "code",
   "execution_count": 2,
   "id": "6550c49d",
   "metadata": {},
   "outputs": [
    {
     "name": "stdout",
     "output_type": "stream",
     "text": [
      "(88, 95, 90, 85, 90, 95, 70, 90, 80, 90, 90, 95)\n",
      "88.16666666666667\n"
     ]
    }
   ],
   "source": [
    "scores = (('Hyun', 88, 95, 90), ('Kang', 85, 90, 95), ('Park', 70, 90, 80), ('Hong', 90, 90, 95))\n",
    "\n",
    "lst = []\n",
    "for i in range(len(scores)) :\n",
    "    for j in range(1, len(scores)) :\n",
    "        lst.append(scores[i][j])\n",
    "lst = tuple(lst)\n",
    "print(lst)\n",
    "\n",
    "total = sum(lst)\n",
    "avg = total / 12\n",
    "print(avg)"
   ]
  },
  {
   "cell_type": "code",
   "execution_count": 4,
   "id": "cf1f3491",
   "metadata": {},
   "outputs": [
    {
     "data": {
      "text/plain": [
       "91.0"
      ]
     },
     "execution_count": 4,
     "metadata": {},
     "output_type": "execute_result"
    }
   ],
   "source": [
    "(88 + 95 + 90) / 3"
   ]
  },
  {
   "cell_type": "code",
   "execution_count": 5,
   "id": "25649b3a",
   "metadata": {},
   "outputs": [
    {
     "data": {
      "text/plain": [
       "90.0"
      ]
     },
     "execution_count": 5,
     "metadata": {},
     "output_type": "execute_result"
    }
   ],
   "source": [
    "(85 + 90 + 95) / 3"
   ]
  },
  {
   "cell_type": "code",
   "execution_count": 6,
   "id": "2fb9943c",
   "metadata": {},
   "outputs": [
    {
     "data": {
      "text/plain": [
       "80.0"
      ]
     },
     "execution_count": 6,
     "metadata": {},
     "output_type": "execute_result"
    }
   ],
   "source": [
    "(70 + 90 + 80) / 3"
   ]
  },
  {
   "cell_type": "code",
   "execution_count": 8,
   "id": "9532ac33",
   "metadata": {},
   "outputs": [
    {
     "data": {
      "text/plain": [
       "91.66666666666667"
      ]
     },
     "execution_count": 8,
     "metadata": {},
     "output_type": "execute_result"
    }
   ],
   "source": [
    "(90 + 90 + 95) / 3 "
   ]
  },
  {
   "cell_type": "code",
   "execution_count": 10,
   "id": "0118352a",
   "metadata": {},
   "outputs": [
    {
     "data": {
      "text/plain": [
       "88.1665"
      ]
     },
     "execution_count": 10,
     "metadata": {},
     "output_type": "execute_result"
    }
   ],
   "source": [
    "(91.0+90 +80 + 91.666)/4"
   ]
  },
  {
   "cell_type": "markdown",
   "id": "7062cff9",
   "metadata": {},
   "source": [
    "# 9"
   ]
  },
  {
   "cell_type": "code",
   "execution_count": 42,
   "id": "7014da51",
   "metadata": {},
   "outputs": [
    {
     "name": "stdout",
     "output_type": "stream",
     "text": [
      "The area of a circle 153.86\n",
      "The circumference of a circle 43.96\n"
     ]
    }
   ],
   "source": [
    "PI = 3.14\n",
    "r = 7\n",
    "circum = 2 * PI * r\n",
    "area = PI * r * r\n",
    "print('The area of a circle', area)\n",
    "print('The circumference of a circle', circum)"
   ]
  },
  {
   "cell_type": "markdown",
   "id": "474f3594",
   "metadata": {},
   "source": [
    "# 10"
   ]
  },
  {
   "cell_type": "code",
   "execution_count": 53,
   "id": "a1ad4040",
   "metadata": {},
   "outputs": [
    {
     "name": "stdout",
     "output_type": "stream",
     "text": [
      "100\n",
      "5050\n"
     ]
    }
   ],
   "source": [
    "print(int('50') + 50)\n",
    "print(str(50) + '50')"
   ]
  },
  {
   "cell_type": "code",
   "execution_count": 54,
   "id": "22db87f7",
   "metadata": {},
   "outputs": [
    {
     "name": "stdout",
     "output_type": "stream",
     "text": [
      "1000\n"
     ]
    }
   ],
   "source": [
    "print(int('1' + '0' + '0' + '0'))"
   ]
  },
  {
   "cell_type": "code",
   "execution_count": 59,
   "id": "a089f305",
   "metadata": {},
   "outputs": [
    {
     "name": "stdout",
     "output_type": "stream",
     "text": [
      "3\n",
      "3! = 6\n"
     ]
    }
   ],
   "source": [
    "n = int(input())\n",
    "fact = 1\n",
    "for i in range(1, N + 1) :\n",
    "    fact *= i\n",
    "print('{}! = {}'.format(N, fact))"
   ]
  },
  {
   "cell_type": "code",
   "execution_count": 68,
   "id": "52a906b0",
   "metadata": {},
   "outputs": [
    {
     "name": "stdout",
     "output_type": "stream",
     "text": [
      "180\n",
      "70\n",
      "21.60\n"
     ]
    }
   ],
   "source": [
    "height = int(input())\n",
    "weight = int(input())\n",
    "\n",
    "height = height / 100\n",
    "BMI = weight / (height ** 2)\n",
    "print('{:.2f}'.format(BMI))"
   ]
  },
  {
   "cell_type": "code",
   "execution_count": 69,
   "id": "9279eb79",
   "metadata": {},
   "outputs": [
    {
     "name": "stdout",
     "output_type": "stream",
     "text": [
      "1800\n"
     ]
    }
   ],
   "source": [
    "width, height = 30, 60\n",
    "print(width * height)"
   ]
  },
  {
   "cell_type": "code",
   "execution_count": 72,
   "id": "49ac57a3",
   "metadata": {},
   "outputs": [
    {
     "name": "stdout",
     "output_type": "stream",
     "text": [
      "3\n",
      "4\n",
      "5.0\n"
     ]
    }
   ],
   "source": [
    "from math import sqrt\n",
    "a = int(input())\n",
    "b = int(input())\n",
    "c = sqrt(pow(a, 2) + pow(b, 2))\n",
    "print(c)"
   ]
  },
  {
   "cell_type": "code",
   "execution_count": 73,
   "id": "57c1edb5",
   "metadata": {},
   "outputs": [
    {
     "name": "stdout",
     "output_type": "stream",
     "text": [
      "2\n",
      "1 * 2 = 2\n",
      "2 * 2 = 4\n",
      "3 * 2 = 6\n",
      "4 * 2 = 8\n",
      "5 * 2 = 10\n",
      "6 * 2 = 12\n",
      "7 * 2 = 14\n",
      "8 * 2 = 16\n",
      "9 * 2 = 18\n"
     ]
    }
   ],
   "source": [
    "n = int(input())\n",
    "\n",
    "for a in range(1, 10) :\n",
    "    print('{} * {} = {}'.format(a, n, a * n))"
   ]
  },
  {
   "cell_type": "code",
   "execution_count": 79,
   "id": "b77435bf",
   "metadata": {},
   "outputs": [
    {
     "name": "stdout",
     "output_type": "stream",
     "text": [
      "Please enter the year: 2023\n",
      "False\n"
     ]
    }
   ],
   "source": [
    "year = int(input('Please enter the year: '))\n",
    "print((year % 4 == 0 and year % 100 != 0) or (year % 400 == 0))"
   ]
  },
  {
   "cell_type": "code",
   "execution_count": 81,
   "id": "0571665b",
   "metadata": {},
   "outputs": [
    {
     "name": "stdout",
     "output_type": "stream",
     "text": [
      "20\n",
      "False\n"
     ]
    }
   ],
   "source": [
    "N = int(input())\n",
    "if N % 2 == 0 :\n",
    "    print('False')\n",
    "else :\n",
    "    print('True')"
   ]
  },
  {
   "cell_type": "markdown",
   "id": "484dc27f",
   "metadata": {},
   "source": [
    "# 19"
   ]
  },
  {
   "cell_type": "code",
   "execution_count": 85,
   "id": "8054c937",
   "metadata": {},
   "outputs": [
    {
     "name": "stdout",
     "output_type": "stream",
     "text": [
      "12\n",
      "False\n"
     ]
    }
   ],
   "source": [
    "n = int(input())\n",
    "print((n % 2 == 1) and (n >= 0 and n <= 10))"
   ]
  },
  {
   "cell_type": "code",
   "execution_count": 90,
   "id": "e8e15bf3",
   "metadata": {},
   "outputs": [
    {
     "name": "stdout",
     "output_type": "stream",
     "text": [
      "222\n",
      "False\n"
     ]
    }
   ],
   "source": [
    "n = int(input())\n",
    "print(n >= 300 and n < 400)"
   ]
  },
  {
   "cell_type": "code",
   "execution_count": 95,
   "id": "5406eae8",
   "metadata": {},
   "outputs": [
    {
     "name": "stdout",
     "output_type": "stream",
     "text": [
      "125\n",
      "True\n"
     ]
    }
   ],
   "source": [
    "n = int(input())\n",
    "print(n % 5 == 0)"
   ]
  },
  {
   "cell_type": "code",
   "execution_count": 99,
   "id": "1c735d49",
   "metadata": {},
   "outputs": [
    {
     "name": "stdout",
     "output_type": "stream",
     "text": [
      "Please enter three lottery numbers : 3 2 9\n",
      "You won the lottery!\n"
     ]
    }
   ],
   "source": [
    "a, b, c = 2, 3, 9\n",
    "num1, num2, num3 = input('Please enter three lottery numbers : ').split()\n",
    "num1, num2, num3 = int(num1), int(num2), int(num3)\n",
    "\n",
    "count = 0 \n",
    "\n",
    "if num1 == a or num1 == b or num1 == c :\n",
    "    count += 1\n",
    "if num2 == a or num2 == b or num2 == c :\n",
    "    count += 1\n",
    "if num3 == a or num3 == b or num3 == c :\n",
    "    count += 1\n",
    "    \n",
    "if count == 3 :\n",
    "    print('You won the lottery!')"
   ]
  },
  {
   "cell_type": "code",
   "execution_count": 105,
   "id": "b6d83842",
   "metadata": {},
   "outputs": [
    {
     "name": "stdout",
     "output_type": "stream",
     "text": [
      "50\n",
      "Natural number\n"
     ]
    }
   ],
   "source": [
    "n = int(input())\n",
    "if n >= 0 and n <= 100 :\n",
    "    print('Natural number')"
   ]
  },
  {
   "cell_type": "markdown",
   "id": "210b1624",
   "metadata": {},
   "source": [
    "# 24"
   ]
  },
  {
   "cell_type": "code",
   "execution_count": 113,
   "id": "e47129eb",
   "metadata": {},
   "outputs": [
    {
     "name": "stdout",
     "output_type": "stream",
     "text": [
      "20 180\n",
      "Adult\n",
      "You can enter\n"
     ]
    }
   ],
   "source": [
    "age, height = input().split()\n",
    "age, height = int(age), int(height)\n",
    "\n",
    "if age > 0 and age < 10 :\n",
    "    print('Kid')\n",
    "if age >= 10 and age < 20 :\n",
    "    print('Youth')\n",
    "if age >= 20 :\n",
    "    print('Adult')\n",
    "    \n",
    "if age >= 10 and height >= 110 :\n",
    "    print('You can enter')"
   ]
  },
  {
   "cell_type": "code",
   "execution_count": 198,
   "id": "f25c2167",
   "metadata": {},
   "outputs": [
    {
     "name": "stdout",
     "output_type": "stream",
     "text": [
      "Enter a position (left, center, right): right\n",
      "Computer defense position: left\n",
      "Goal\n"
     ]
    }
   ],
   "source": [
    "import random as rd\n",
    "\n",
    "r = rd.randint(0, 2)\n",
    "if r == 0 :\n",
    "    computer = 'left'\n",
    "elif r == 1 :\n",
    "    computer = 'center'\n",
    "elif r == 2 :\n",
    "    computer = 'right'\n",
    "    \n",
    "user = input('Enter a position (left, center, right): ')\n",
    "print('Computer defense position:', computer)\n",
    "if user == computer :\n",
    "    print('No Goal')\n",
    "else :\n",
    "    print('Goal')"
   ]
  },
  {
   "cell_type": "code",
   "execution_count": 204,
   "id": "e14ee745",
   "metadata": {},
   "outputs": [
    {
     "name": "stdout",
     "output_type": "stream",
     "text": [
      "i\n",
      "Vowel\n"
     ]
    }
   ],
   "source": [
    "ch = input()\n",
    "vowel = ['a', 'e', 'i', 'o', 'u']\n",
    "if ch in vowel :\n",
    "    print('Vowel')\n",
    "else :\n",
    "    print('Consonent')"
   ]
  },
  {
   "cell_type": "code",
   "execution_count": 16,
   "id": "79fd1902",
   "metadata": {},
   "outputs": [
    {
     "name": "stdout",
     "output_type": "stream",
     "text": [
      "1.5 -2\n",
      "4\n"
     ]
    }
   ],
   "source": [
    "x, y = input().split()\n",
    "x, y = float(x), float(y)\n",
    "\n",
    "if x > 0 and y > 0 :\n",
    "    print(1)\n",
    "elif x < 0 and y > 0 :\n",
    "    print(2)\n",
    "elif x < 0 and y < 0 :\n",
    "    print(3)\n",
    "elif x > 0 and y < 0 :\n",
    "    print(4)"
   ]
  },
  {
   "cell_type": "code",
   "execution_count": 22,
   "id": "b19d847f",
   "metadata": {},
   "outputs": [
    {
     "name": "stdout",
     "output_type": "stream",
     "text": [
      "26.75\n"
     ]
    }
   ],
   "source": [
    "person1 = ['David Doe', 20, 1, 180.0, 100.0]\n",
    "person2 = ['John Smith', 25, 1, 170.0, 70.0]\n",
    "person3 = ['Jane Carter', 22, 0, 169.0, 60.0]\n",
    "person4 = ['Peter Kelly', 40, 1, 150.0, 50.0]\n",
    "\n",
    "person = person1 + person2 + person3 + person4\n",
    "\n",
    "age = person[1::5]\n",
    "avg = sum(age) / len(age)\n",
    "print(avg)"
   ]
  },
  {
   "cell_type": "code",
   "execution_count": 35,
   "id": "b322c703",
   "metadata": {},
   "outputs": [
    {
     "name": "stdout",
     "output_type": "stream",
     "text": [
      "abc bcd bcdefg abba cddc opq\n",
      "abc\n"
     ]
    }
   ],
   "source": [
    "s_list = []\n",
    "s_list = (input()).split()\n",
    "\n",
    "shortest = s_list[0]\n",
    "for i in s_list :\n",
    "    if len(shortest) > len(i) :\n",
    "        shortest = i\n",
    "        \n",
    "print(shortest)"
   ]
  },
  {
   "cell_type": "markdown",
   "id": "2649c805",
   "metadata": {},
   "source": [
    "# 30\n"
   ]
  },
  {
   "cell_type": "code",
   "execution_count": null,
   "id": "67538417",
   "metadata": {},
   "outputs": [],
   "source": [
    "abc bcd bcdefg abba cddc opq"
   ]
  },
  {
   "cell_type": "code",
   "execution_count": 38,
   "id": "991d33c7",
   "metadata": {},
   "outputs": [
    {
     "name": "stdout",
     "output_type": "stream",
     "text": [
      "abc bcd bcdefg abba cddc opq\n",
      "abc, bcd, opq\n"
     ]
    }
   ],
   "source": [
    "s_list = []\n",
    "s_list = input().split()\n",
    "\n",
    "shortest = s_list[0]\n",
    "shortest_string = []\n",
    "for i in s_list :\n",
    "    if len(shortest) > len(i) :\n",
    "        shortest = i\n",
    "\n",
    "for i in s_list :\n",
    "    if len(shortest) == len(i) :\n",
    "        shortest_string.append(i)\n",
    "        \n",
    "print(*shortest_string, sep = ', ')"
   ]
  },
  {
   "cell_type": "code",
   "execution_count": 39,
   "id": "28424752",
   "metadata": {},
   "outputs": [
    {
     "name": "stdout",
     "output_type": "stream",
     "text": [
      "Possible combinations of David's sandwich shops\n",
      "Rye bread + Meatball + Lettuce + Mayonnaise\n",
      "Rye bread + Meatball + Lettuce + Honey mustard\n",
      "Rye bread + Meatball + Lettuce + Chili sauce\n",
      "Rye bread + Meatball + Tomato + Mayonnaise\n",
      "Rye bread + Meatball + Tomato + Honey mustard\n",
      "Rye bread + Meatball + Tomato + Chili sauce\n",
      "Rye bread + Meatball + Cucumber + Mayonnaise\n",
      "Rye bread + Meatball + Cucumber + Honey mustard\n",
      "Rye bread + Meatball + Cucumber + Chili sauce\n",
      "Rye bread + Sausages + Lettuce + Mayonnaise\n",
      "Rye bread + Sausages + Lettuce + Honey mustard\n",
      "Rye bread + Sausages + Lettuce + Chili sauce\n",
      "Rye bread + Sausages + Tomato + Mayonnaise\n",
      "Rye bread + Sausages + Tomato + Honey mustard\n",
      "Rye bread + Sausages + Tomato + Chili sauce\n",
      "Rye bread + Sausages + Cucumber + Mayonnaise\n",
      "Rye bread + Sausages + Cucumber + Honey mustard\n",
      "Rye bread + Sausages + Cucumber + Chili sauce\n",
      "Rye bread + Chicken breast + Lettuce + Mayonnaise\n",
      "Rye bread + Chicken breast + Lettuce + Honey mustard\n",
      "Rye bread + Chicken breast + Lettuce + Chili sauce\n",
      "Rye bread + Chicken breast + Tomato + Mayonnaise\n",
      "Rye bread + Chicken breast + Tomato + Honey mustard\n",
      "Rye bread + Chicken breast + Tomato + Chili sauce\n",
      "Rye bread + Chicken breast + Cucumber + Mayonnaise\n",
      "Rye bread + Chicken breast + Cucumber + Honey mustard\n",
      "Rye bread + Chicken breast + Cucumber + Chili sauce\n",
      "Wheat + Meatball + Lettuce + Mayonnaise\n",
      "Wheat + Meatball + Lettuce + Honey mustard\n",
      "Wheat + Meatball + Lettuce + Chili sauce\n",
      "Wheat + Meatball + Tomato + Mayonnaise\n",
      "Wheat + Meatball + Tomato + Honey mustard\n",
      "Wheat + Meatball + Tomato + Chili sauce\n",
      "Wheat + Meatball + Cucumber + Mayonnaise\n",
      "Wheat + Meatball + Cucumber + Honey mustard\n",
      "Wheat + Meatball + Cucumber + Chili sauce\n",
      "Wheat + Sausages + Lettuce + Mayonnaise\n",
      "Wheat + Sausages + Lettuce + Honey mustard\n",
      "Wheat + Sausages + Lettuce + Chili sauce\n",
      "Wheat + Sausages + Tomato + Mayonnaise\n",
      "Wheat + Sausages + Tomato + Honey mustard\n",
      "Wheat + Sausages + Tomato + Chili sauce\n",
      "Wheat + Sausages + Cucumber + Mayonnaise\n",
      "Wheat + Sausages + Cucumber + Honey mustard\n",
      "Wheat + Sausages + Cucumber + Chili sauce\n",
      "Wheat + Chicken breast + Lettuce + Mayonnaise\n",
      "Wheat + Chicken breast + Lettuce + Honey mustard\n",
      "Wheat + Chicken breast + Lettuce + Chili sauce\n",
      "Wheat + Chicken breast + Tomato + Mayonnaise\n",
      "Wheat + Chicken breast + Tomato + Honey mustard\n",
      "Wheat + Chicken breast + Tomato + Chili sauce\n",
      "Wheat + Chicken breast + Cucumber + Mayonnaise\n",
      "Wheat + Chicken breast + Cucumber + Honey mustard\n",
      "Wheat + Chicken breast + Cucumber + Chili sauce\n",
      "White + Meatball + Lettuce + Mayonnaise\n",
      "White + Meatball + Lettuce + Honey mustard\n",
      "White + Meatball + Lettuce + Chili sauce\n",
      "White + Meatball + Tomato + Mayonnaise\n",
      "White + Meatball + Tomato + Honey mustard\n",
      "White + Meatball + Tomato + Chili sauce\n",
      "White + Meatball + Cucumber + Mayonnaise\n",
      "White + Meatball + Cucumber + Honey mustard\n",
      "White + Meatball + Cucumber + Chili sauce\n",
      "White + Sausages + Lettuce + Mayonnaise\n",
      "White + Sausages + Lettuce + Honey mustard\n",
      "White + Sausages + Lettuce + Chili sauce\n",
      "White + Sausages + Tomato + Mayonnaise\n",
      "White + Sausages + Tomato + Honey mustard\n",
      "White + Sausages + Tomato + Chili sauce\n",
      "White + Sausages + Cucumber + Mayonnaise\n",
      "White + Sausages + Cucumber + Honey mustard\n",
      "White + Sausages + Cucumber + Chili sauce\n",
      "White + Chicken breast + Lettuce + Mayonnaise\n",
      "White + Chicken breast + Lettuce + Honey mustard\n",
      "White + Chicken breast + Lettuce + Chili sauce\n",
      "White + Chicken breast + Tomato + Mayonnaise\n",
      "White + Chicken breast + Tomato + Honey mustard\n",
      "White + Chicken breast + Tomato + Chili sauce\n",
      "White + Chicken breast + Cucumber + Mayonnaise\n",
      "White + Chicken breast + Cucumber + Honey mustard\n",
      "White + Chicken breast + Cucumber + Chili sauce\n"
     ]
    }
   ],
   "source": [
    "bread = ['Rye bread', 'Wheat', 'White']\n",
    "meat = ['Meatball', 'Sausages', 'Chicken breast']\n",
    "vegetable = ['Lettuce', 'Tomato', 'Cucumber']\n",
    "sauce = ['Mayonnaise', 'Honey mustard', 'Chili sauce']\n",
    "\n",
    "print(\"Possible combinations of David's sandwich shops\")\n",
    "\n",
    "for b in bread :\n",
    "    for m in meat :\n",
    "        for v in vegetable :\n",
    "            for s in sauce :\n",
    "                print(b, '+', m, '+', v, '+', s)"
   ]
  },
  {
   "cell_type": "markdown",
   "id": "1ff4ed5f",
   "metadata": {},
   "source": [
    "# 32"
   ]
  },
  {
   "cell_type": "code",
   "execution_count": 99,
   "id": "80c547a9",
   "metadata": {},
   "outputs": [
    {
     "name": "stdout",
     "output_type": "stream",
     "text": [
      "5\n",
      "  1  2  3  4  5\n",
      " 10  9  8  7  6\n",
      " 11 12 13 14 15\n",
      " 20 19 18 17 16\n",
      " 21 22 23 24 25\n"
     ]
    }
   ],
   "source": [
    "n = int(input())\n",
    "x = 1\n",
    "for i in range(n) :\n",
    "    \n",
    "    if i % 2 != 1 :\n",
    "        for j in range(n) :\n",
    "            print('{:3d}'.format(x), end = '')\n",
    "            x += 1\n",
    "    else :\n",
    "        for j in range(n,0,-1) :\n",
    "            print('{:3d}'.format(x+j-1), end = '')\n",
    "        x += n\n",
    "    print()"
   ]
  },
  {
   "cell_type": "code",
   "execution_count": 69,
   "id": "a1a57211",
   "metadata": {},
   "outputs": [
    {
     "name": "stdout",
     "output_type": "stream",
     "text": [
      "45\n",
      "Lower\n",
      "20\n",
      "Higher\n",
      "30\n",
      "Lower\n",
      "25\n",
      "Higher\n",
      "27\n",
      "Lower\n",
      "26\n",
      "Answer\n"
     ]
    }
   ],
   "source": [
    "from random import randint\n",
    "\n",
    "secret_num = randint(1, 100)\n",
    "\n",
    "while True :\n",
    "    user = int(input())\n",
    "    if user > secret_num :\n",
    "        print('Lower')\n",
    "    elif user < secret_num :\n",
    "        print('Higher')\n",
    "    else :\n",
    "        print('Answer')\n",
    "        break"
   ]
  },
  {
   "cell_type": "markdown",
   "id": "18b4ed7c",
   "metadata": {},
   "source": [
    "# 34"
   ]
  },
  {
   "cell_type": "code",
   "execution_count": 119,
   "id": "3e6804cd",
   "metadata": {},
   "outputs": [
    {
     "name": "stdout",
     "output_type": "stream",
     "text": [
      "100 150 230 120 180 100 140 95 81 21 4\n",
      "300 420 530 420 300 40 5 1 1 1\n",
      "0.165 0.001\n"
     ]
    }
   ],
   "source": [
    "populationA = []\n",
    "populationB = []\n",
    "\n",
    "populationA = input().split()\n",
    "populationB = input().split()\n",
    "for i in range(len(populationA)) :\n",
    "    populationA[i] = int(populationA[i])\n",
    "    \n",
    "for i in range(len(populationB)) : \n",
    "    populationB[i] = int(populationB[i])\n",
    "\n",
    "populationA = tuple(populationA)\n",
    "populationB = tuple(populationB)\n",
    "\n",
    "oldA = sum(populationA[7:])\n",
    "oldB = sum(populationB[7:])\n",
    "\n",
    "sumA, sumB = sum(populationA), sum(populationB)\n",
    "oldRateA, oldRateB = oldA / sumA, oldB / sumB\n",
    "print('{:.3f} {:.3f}'.format(oldRateA, oldRateB))"
   ]
  },
  {
   "cell_type": "markdown",
   "id": "27f7d626",
   "metadata": {},
   "source": [
    "100 150 230 120 180 100 140 95 81 21 4 <br>\n",
    "300 420 530 420 300 40 5 1 1 1"
   ]
  },
  {
   "cell_type": "markdown",
   "id": "8746c06d",
   "metadata": {},
   "source": [
    "# 35"
   ]
  },
  {
   "cell_type": "code",
   "execution_count": 122,
   "id": "289d9acb",
   "metadata": {},
   "outputs": [
    {
     "name": "stdout",
     "output_type": "stream",
     "text": [
      "100 121 120 130 140 120 122 123 190 125\n",
      "3\n"
     ]
    }
   ],
   "source": [
    "records = []\n",
    "\n",
    "records = input().split()\n",
    "for i in range(len(records)) :\n",
    "    records[i] = int(records[i])\n",
    "records = tuple(records)\n",
    "\n",
    "count = 0\n",
    "for i in range(len(records) - 1) :\n",
    "    if records[i] > records[i + 1] :\n",
    "        count += 1\n",
    "print(count)"
   ]
  },
  {
   "cell_type": "code",
   "execution_count": null,
   "id": "a59b986c",
   "metadata": {},
   "outputs": [],
   "source": [
    "100 121 120 130 140 120 122 123 190 125"
   ]
  },
  {
   "cell_type": "markdown",
   "id": "48e816d6",
   "metadata": {},
   "source": [
    "# 36"
   ]
  },
  {
   "cell_type": "code",
   "execution_count": 149,
   "id": "5529a3be",
   "metadata": {},
   "outputs": [
    {
     "name": "stdout",
     "output_type": "stream",
     "text": [
      "1 2 5 4 3 2 1 4 7 8 9 9 3 7 3 9 1 1 1\n",
      "1\n"
     ]
    }
   ],
   "source": [
    "tup = []\n",
    "\n",
    "tup = input().split()\n",
    "for i in range(len(tup)) :\n",
    "    tup[i] = int(tup[i])\n",
    "\n",
    "tup.sort()\n",
    "tup = tuple(tup)\n",
    "most_frequent = tup[0]\n",
    "for i in range(len(tup)) :\n",
    "    if most_frequent < tup[i] and tup.count(most_frequent) <= tup.count(tup[i]) :\n",
    "        most_frequent = tup[i]\n",
    "        \n",
    "print(most_frequent)"
   ]
  },
  {
   "cell_type": "code",
   "execution_count": null,
   "id": "7ff6242d",
   "metadata": {},
   "outputs": [],
   "source": [
    "1 2 5 4 3 2 1 4 7 8 9 9 3 7 3 9"
   ]
  },
  {
   "cell_type": "markdown",
   "id": "daff94c7",
   "metadata": {},
   "source": [
    "# 37"
   ]
  },
  {
   "cell_type": "code",
   "execution_count": 152,
   "id": "452bc278",
   "metadata": {},
   "outputs": [
    {
     "name": "stdout",
     "output_type": "stream",
     "text": [
      "[(1,), 'abc', (1,), ('a',), ('a', 'b'), ((),)]\n"
     ]
    }
   ],
   "source": [
    "lst = [(), (1,), [], 'abc', (), (), (1,), ('a',), ('a', 'b'), ((),), '']\n",
    "temp = []\n",
    "for i in lst :\n",
    "    if len(i) != 0 :\n",
    "        temp.append(i)\n",
    "        \n",
    "print(temp)"
   ]
  },
  {
   "cell_type": "markdown",
   "id": "afb61c81",
   "metadata": {},
   "source": [
    "# 38"
   ]
  },
  {
   "cell_type": "code",
   "execution_count": 2,
   "id": "56324774",
   "metadata": {},
   "outputs": [
    {
     "name": "stdout",
     "output_type": "stream",
     "text": [
      "Do you want to continue the game? (yes, no): yes\n",
      "Choose among scissors, rock, paper> si\n",
      "Choose among scissors, rock, paper> scissors\n",
      "scissors\n",
      "Do you want to continue the game? (yes, no): no\n",
      "Game Over\n"
     ]
    }
   ],
   "source": [
    "while True :\n",
    "    play = input('Do you want to continue the game? (yes, no): ')\n",
    "    if play == 'no' :\n",
    "        print('Game Over')\n",
    "        break\n",
    "        \n",
    "    elif play == 'yes' :\n",
    "        while True :\n",
    "            choice = input('Choose among scissors, rock, paper> ')\n",
    "            if choice in ['scissors', 'rock', 'paper'] :\n",
    "                print(choice)\n",
    "                break"
   ]
  },
  {
   "cell_type": "code",
   "execution_count": 4,
   "id": "f26c215c",
   "metadata": {},
   "outputs": [
    {
     "name": "stdout",
     "output_type": "stream",
     "text": [
      "10 // 8 = 1\n",
      "10 % 8 = 2\n"
     ]
    }
   ],
   "source": [
    "print('10 // 8 =', 10 // 8)\n",
    "print('10 % 8 =', 10 % 8)"
   ]
  },
  {
   "cell_type": "code",
   "execution_count": 5,
   "id": "20e8c4a4",
   "metadata": {},
   "outputs": [
    {
     "name": "stdout",
     "output_type": "stream",
     "text": [
      "86\n",
      "22\n",
      "1728\n",
      "1.6875\n"
     ]
    }
   ],
   "source": [
    "x, y = 54, 32\n",
    "print(x + y)\n",
    "print(x - y)\n",
    "print(x * y)\n",
    "print(x / y)"
   ]
  },
  {
   "cell_type": "code",
   "execution_count": 7,
   "id": "57a5f031",
   "metadata": {},
   "outputs": [
    {
     "name": "stdout",
     "output_type": "stream",
     "text": [
      "54 \n",
      "-43\n",
      "54\n",
      "32\n",
      "54+32=86\n",
      "54-32=22\n"
     ]
    }
   ],
   "source": [
    "while True :\n",
    "    a = int(input())\n",
    "    b = int(input())\n",
    "    if a > 0 and b > 0 :\n",
    "        break\n",
    "\n",
    "print('{}+{}={}'.format(a, b, a + b))\n",
    "print('{}-{}={}'.format(a, b, a - b))"
   ]
  },
  {
   "cell_type": "code",
   "execution_count": 10,
   "id": "d39b08f8",
   "metadata": {},
   "outputs": [
    {
     "name": "stdout",
     "output_type": "stream",
     "text": [
      "2\n",
      "2\n",
      "4\n",
      "6\n",
      "8\n",
      "10\n",
      "12\n",
      "14\n",
      "16\n",
      "18\n"
     ]
    }
   ],
   "source": [
    "while True :\n",
    "    N = int(input())\n",
    "    if 2 <= N <= 100 :\n",
    "        break\n",
    "        \n",
    "for i in range(1, 10) :\n",
    "    print(i * N)"
   ]
  },
  {
   "cell_type": "code",
   "execution_count": 12,
   "id": "77eda8dc",
   "metadata": {},
   "outputs": [
    {
     "name": "stdout",
     "output_type": "stream",
     "text": [
      "6 3 2\n",
      "11\n",
      "1\n",
      "36\n",
      "1.0\n"
     ]
    }
   ],
   "source": [
    "while True :\n",
    "    A, B, C = input().split()\n",
    "    A, B, C = int(A), int(B), int(C)\n",
    "    \n",
    "    if 2 <= A <= 100 and 2 <= B <= 100 and 2 <= C <= 100 :\n",
    "        break\n",
    "        \n",
    "print(A + B + C)\n",
    "print(A - B - C)\n",
    "print(A * B * C)\n",
    "print(A / B / C)"
   ]
  },
  {
   "cell_type": "code",
   "execution_count": 14,
   "id": "8f706004",
   "metadata": {},
   "outputs": [
    {
     "name": "stdout",
     "output_type": "stream",
     "text": [
      "A Z\n",
      "A:65\n",
      "Z:90\n"
     ]
    }
   ],
   "source": [
    "x, y = input().split()\n",
    "\n",
    "print('{}:{}'.format(x, ord(x)))\n",
    "print('{}:{}'.format(y, ord(y)))"
   ]
  },
  {
   "cell_type": "code",
   "execution_count": 16,
   "id": "6d0c055d",
   "metadata": {},
   "outputs": [
    {
     "name": "stdout",
     "output_type": "stream",
     "text": [
      "5\n",
      "8\n",
      "7\n",
      "8\n",
      "11\n",
      "5\n",
      "13\n",
      "20\n",
      "28\n",
      "39\n"
     ]
    }
   ],
   "source": [
    "lst = []\n",
    "for i in range(5) :\n",
    "    x = int(input())\n",
    "    lst.append(x)\n",
    "\n",
    "summ = 0\n",
    "for i in lst :\n",
    "    summ += i\n",
    "    print(summ)"
   ]
  },
  {
   "cell_type": "code",
   "execution_count": 18,
   "id": "fcbeed37",
   "metadata": {},
   "outputs": [
    {
     "name": "stdout",
     "output_type": "stream",
     "text": [
      "4 3\n",
      "2\n"
     ]
    }
   ],
   "source": [
    "R1, S = input().split()\n",
    "R1, S = int(R1), int(S)\n",
    "\n",
    "R2 = S * 2 - R1\n",
    "print(R2)"
   ]
  },
  {
   "cell_type": "code",
   "execution_count": 34,
   "id": "1c2bc23a",
   "metadata": {},
   "outputs": [
    {
     "name": "stdout",
     "output_type": "stream",
     "text": [
      "23 58\n",
      "22\n",
      "0 20\n"
     ]
    }
   ],
   "source": [
    "A, B = input().split()\n",
    "A, B = int(A), int(B)\n",
    "C = int(input())\n",
    "\n",
    "hours = A * 60\n",
    "minutes = B + C\n",
    "\n",
    "total = hours + minutes\n",
    "\n",
    "hours = total // 60\n",
    "minutes = (total % 60)\n",
    "\n",
    "if hours > 23 :\n",
    "    hours = hours - 24\n",
    "    \n",
    "print(hours, minutes)"
   ]
  },
  {
   "cell_type": "markdown",
   "id": "07941eee",
   "metadata": {},
   "source": [
    "# 49"
   ]
  },
  {
   "cell_type": "code",
   "execution_count": 81,
   "id": "ede72625",
   "metadata": {},
   "outputs": [
    {
     "name": "stdout",
     "output_type": "stream",
     "text": [
      "3\n",
      "6\n"
     ]
    }
   ],
   "source": [
    "n = int(input())\n",
    "s, i = 1, 1\n",
    "count = 1\n",
    "\n",
    "for _ in range(0, n) :\n",
    "    s += i\n",
    "    count += 1\n",
    "    if count == 2 :\n",
    "        i += 1\n",
    "        count = 0\n",
    "print(s)"
   ]
  },
  {
   "cell_type": "markdown",
   "id": "4fb95ae3",
   "metadata": {},
   "source": [
    "# 50"
   ]
  },
  {
   "cell_type": "code",
   "execution_count": 86,
   "id": "845c5dc8",
   "metadata": {},
   "outputs": [
    {
     "name": "stdout",
     "output_type": "stream",
     "text": [
      "7\n",
      "odd\n"
     ]
    }
   ],
   "source": [
    "a = int(input())\n",
    "if a % 2 == 0 :\n",
    "    print('even')\n",
    "else :\n",
    "    print('odd')"
   ]
  },
  {
   "cell_type": "markdown",
   "id": "318ce217",
   "metadata": {},
   "source": [
    "# 51 "
   ]
  },
  {
   "cell_type": "code",
   "execution_count": 89,
   "id": "1100ab23",
   "metadata": {},
   "outputs": [
    {
     "name": "stdout",
     "output_type": "stream",
     "text": [
      "20000 20000\n",
      "=\n"
     ]
    }
   ],
   "source": [
    "a, b = input().split()\n",
    "a, b = int(a), int(b)\n",
    "\n",
    "if a > b :\n",
    "    print('>')\n",
    "elif a < b :\n",
    "    print('<')\n",
    "else :\n",
    "    print('=')"
   ]
  },
  {
   "cell_type": "code",
   "execution_count": 91,
   "id": "8428a919",
   "metadata": {},
   "outputs": [
    {
     "name": "stdout",
     "output_type": "stream",
     "text": [
      "1 2\n",
      "odd\n"
     ]
    }
   ],
   "source": [
    "a, b = input().split()\n",
    "a, b = int(a), int(b)\n",
    "c = a + b\n",
    "\n",
    "if c % 2 == 0 :\n",
    "    print('even')\n",
    "else :\n",
    "    print('odd')"
   ]
  },
  {
   "cell_type": "code",
   "execution_count": 93,
   "id": "23bb1fc7",
   "metadata": {},
   "outputs": [
    {
     "name": "stdout",
     "output_type": "stream",
     "text": [
      "-4 3\n",
      "0 or Negative Number\n"
     ]
    }
   ],
   "source": [
    "a, b = input().split()\n",
    "a, b = int(a), int(b)\n",
    "c = a + b\n",
    "\n",
    "if c > 0 :\n",
    "    print('Natural Number')\n",
    "else :\n",
    "    print('0 or Negative Number')"
   ]
  },
  {
   "cell_type": "markdown",
   "id": "9ed9524b",
   "metadata": {},
   "source": [
    "# 54"
   ]
  },
  {
   "cell_type": "code",
   "execution_count": 96,
   "id": "f7562404",
   "metadata": {},
   "outputs": [
    {
     "name": "stdout",
     "output_type": "stream",
     "text": [
      "500 7 2500\n",
      "1000\n"
     ]
    }
   ],
   "source": [
    "P, N, M = input().split()\n",
    "P, N, M = int(P), int(N), int(M)\n",
    "\n",
    "if P * N < M :\n",
    "    print(0)\n",
    "else :\n",
    "    print(abs(P * N - M))"
   ]
  },
  {
   "cell_type": "markdown",
   "id": "755f95a2",
   "metadata": {},
   "source": [
    "# 55"
   ]
  },
  {
   "cell_type": "code",
   "execution_count": 103,
   "id": "e29c3441",
   "metadata": {},
   "outputs": [
    {
     "name": "stdout",
     "output_type": "stream",
     "text": [
      "91 78 87 100\n",
      "88 100 89 73\n",
      "356\n"
     ]
    }
   ],
   "source": [
    "a = input()\n",
    "b = input()\n",
    "a = [int(num) for num in a.split()]\n",
    "b = [int(num) for num in b.split()]\n",
    "\n",
    "sumA = sum(a)\n",
    "sumB = sum(b)\n",
    "\n",
    "if sumA >= sumB :\n",
    "    print(sumA)\n",
    "else :\n",
    "    print(sumB)"
   ]
  },
  {
   "cell_type": "markdown",
   "id": "6c8e1bd6",
   "metadata": {},
   "source": [
    "# 56"
   ]
  },
  {
   "cell_type": "code",
   "execution_count": 106,
   "id": "04afe9f3",
   "metadata": {},
   "outputs": [
    {
     "name": "stdout",
     "output_type": "stream",
     "text": [
      "0\n",
      "less than 1 or greater than 10\n"
     ]
    }
   ],
   "source": [
    "a = int(input())\n",
    "\n",
    "if a > 0 and a <= 10 :\n",
    "    print('1 or more and 10 or less')\n",
    "else :\n",
    "    print('less than 1 or greater than 10')"
   ]
  },
  {
   "cell_type": "markdown",
   "id": "e32ca50f",
   "metadata": {},
   "source": [
    "# 57"
   ]
  },
  {
   "cell_type": "code",
   "execution_count": 109,
   "id": "c15199ae",
   "metadata": {},
   "outputs": [
    {
     "name": "stdout",
     "output_type": "stream",
     "text": [
      "0 0\n",
      "both a and b are zero or more\n"
     ]
    }
   ],
   "source": [
    "a, b = input().split()\n",
    "a, b = int(a), int(b)\n",
    "\n",
    "if a < 0 or b < 0 :\n",
    "    print('One of a or b is negative number')\n",
    "else :\n",
    "    print('both a and b are zero or more')"
   ]
  },
  {
   "cell_type": "markdown",
   "id": "61ea3373",
   "metadata": {},
   "source": [
    "# 58"
   ]
  },
  {
   "cell_type": "code",
   "execution_count": 111,
   "id": "fd6ddc86",
   "metadata": {},
   "outputs": [
    {
     "name": "stdout",
     "output_type": "stream",
     "text": [
      "8\n",
      "YES\n"
     ]
    }
   ],
   "source": [
    "W = int(input())\n",
    "if W % 2 == 0 :\n",
    "    print('YES')\n",
    "else :\n",
    "    print('NO')"
   ]
  },
  {
   "cell_type": "code",
   "execution_count": 118,
   "id": "57d805da",
   "metadata": {},
   "outputs": [
    {
     "name": "stdout",
     "output_type": "stream",
     "text": [
      "111\n",
      "6666\n",
      "0\n",
      "6666\n"
     ]
    }
   ],
   "source": [
    "a = input()\n",
    "b = input()\n",
    "lock = a\n",
    "g = '0000'\n",
    "for i in range(10000) :\n",
    "    g = '{:0>4}'.format(i)\n",
    "    if i % 2 == 0 :\n",
    "        lock = b\n",
    "    else :\n",
    "        lock = a\n",
    "    \n",
    "    if g == lock :\n",
    "        print(0)\n",
    "        break\n",
    "    if i == 9999 :\n",
    "        print(1)\n"
   ]
  },
  {
   "cell_type": "markdown",
   "id": "6cac6a2c",
   "metadata": {},
   "source": [
    "# 60"
   ]
  },
  {
   "cell_type": "code",
   "execution_count": 125,
   "id": "7797b688",
   "metadata": {},
   "outputs": [
    {
     "name": "stdout",
     "output_type": "stream",
     "text": [
      "90\n",
      "A\n"
     ]
    }
   ],
   "source": [
    "S = int(input())\n",
    "\n",
    "if S >= 90 and S <= 100 :\n",
    "    grade = 'a'\n",
    "elif S >= 80 :\n",
    "    grade = 'b'\n",
    "elif S >= 70 :\n",
    "    grade = 'c'\n",
    "elif S >= 60 :\n",
    "    grade = 'd'\n",
    "else :\n",
    "    grade = 'f'\n",
    "print(grade.upper())"
   ]
  },
  {
   "cell_type": "markdown",
   "id": "8056f03c",
   "metadata": {},
   "source": [
    "# 61"
   ]
  },
  {
   "cell_type": "code",
   "execution_count": 128,
   "id": "7e1ec4be",
   "metadata": {},
   "outputs": [
    {
     "name": "stdout",
     "output_type": "stream",
     "text": [
      "3 7\n",
      "neither\n"
     ]
    }
   ],
   "source": [
    "a, b = input().split()\n",
    "a, b = int(a), int(b)\n",
    "\n",
    "if a == 1 and b == 1 :\n",
    "    print('both')\n",
    "elif a == 1 or b == 1 :\n",
    "    print('either')\n",
    "else :\n",
    "    print('neither')"
   ]
  },
  {
   "cell_type": "markdown",
   "id": "00f8b179",
   "metadata": {},
   "source": [
    "# 62"
   ]
  },
  {
   "cell_type": "code",
   "execution_count": 131,
   "id": "0538cbaf",
   "metadata": {},
   "outputs": [
    {
     "name": "stdout",
     "output_type": "stream",
     "text": [
      "5 15 3\n",
      "5 = 15 / 3\n"
     ]
    }
   ],
   "source": [
    "A, B, C = input().split()\n",
    "A, B, C = int(A), int(B), int(C)\n",
    "\n",
    "if A + B == C :\n",
    "    print('{} + {} = {}'.format(A, B, C))\n",
    "elif A - B == C :\n",
    "    print('{} - {} = {}'.format(A, B, C))\n",
    "elif A * B == C :\n",
    "    print('{} * {} = {}'.format(A, B, C))\n",
    "elif A / B == C :\n",
    "    print('{} / {} = {}'.format(A, B, C))\n",
    "    \n",
    "if A == B + C :\n",
    "    print('{} = {} + {}'.format(A, B, C))\n",
    "elif A == B - C :\n",
    "    print('{} = {} - {}'.format(A, B, C))\n",
    "elif A == B * C :\n",
    "    print('{} = {} * {}'.format(A, B, C))\n",
    "elif A == B / C :\n",
    "    print('{} = {} / {}'.format(A, B, C))"
   ]
  },
  {
   "cell_type": "markdown",
   "id": "b1f00d79",
   "metadata": {},
   "source": [
    "# 63"
   ]
  },
  {
   "cell_type": "code",
   "execution_count": 137,
   "id": "a67b129e",
   "metadata": {},
   "outputs": [
    {
     "name": "stdout",
     "output_type": "stream",
     "text": [
      "3 5 6\n",
      "600\n"
     ]
    }
   ],
   "source": [
    "A, B, C = input().split()\n",
    "A, B, C = int(A), int(B), int(C)\n",
    "\n",
    "if A == B and A == C :\n",
    "    print(A * 1000 + 10000)\n",
    "elif (A == B) or (A == C) :\n",
    "    print(A * 100 + 1000)\n",
    "elif (B == A) or (B == C) :\n",
    "    print(B * 100 + 1000)\n",
    "else : \n",
    "    if A > B and A > C :\n",
    "        print(A * 100)\n",
    "    elif B > A and B > C :\n",
    "        print(B * 100)\n",
    "    elif C > A and C > B :\n",
    "        print(C * 100)"
   ]
  },
  {
   "cell_type": "markdown",
   "id": "eaa915c0",
   "metadata": {},
   "source": [
    "# 64"
   ]
  },
  {
   "cell_type": "code",
   "execution_count": null,
   "id": "a31c4afa",
   "metadata": {},
   "outputs": [],
   "source": []
  },
  {
   "cell_type": "markdown",
   "id": "1c9cdada",
   "metadata": {},
   "source": [
    "# 65"
   ]
  },
  {
   "cell_type": "code",
   "execution_count": 139,
   "id": "cbc1bb58",
   "metadata": {},
   "outputs": [
    {
     "name": "stdout",
     "output_type": "stream",
     "text": [
      "13\n",
      "1 2 3 4 5 6 7 8 9 10 11 12 13 "
     ]
    }
   ],
   "source": [
    "N = int(input())\n",
    "for i in range(1, N + 1) :\n",
    "    print(i, end = ' ')"
   ]
  },
  {
   "cell_type": "markdown",
   "id": "d094beaf",
   "metadata": {},
   "source": [
    "# 66"
   ]
  },
  {
   "cell_type": "code",
   "execution_count": 176,
   "id": "a883c2c4",
   "metadata": {},
   "outputs": [
    {
     "name": "stdout",
     "output_type": "stream",
     "text": [
      "10\n",
      "1 2 7\n",
      "1 3 6\n",
      "1 4 5\n",
      "2 3 5\n"
     ]
    }
   ],
   "source": [
    "N = int(input())\n",
    "for i in range(1, 10):\n",
    "    for j in range(i + 1, 10):\n",
    "        for k in range(j + 1, 10):\n",
    "            if i + j + k == N:\n",
    "                print(i, j, k)"
   ]
  },
  {
   "cell_type": "markdown",
   "id": "99561bd0",
   "metadata": {},
   "source": [
    "# 67"
   ]
  },
  {
   "cell_type": "code",
   "execution_count": 168,
   "id": "f15eadb0",
   "metadata": {},
   "outputs": [
    {
     "name": "stdout",
     "output_type": "stream",
     "text": [
      "3 8\n",
      "3 4 5 6 7 8 "
     ]
    }
   ],
   "source": [
    "while True :\n",
    "    a, b = input().split()\n",
    "    a, b = int(a), int(b)\n",
    "    if (a > 0 and b > 0 and a <= 100 and b <= 100) and (a <= b) :\n",
    "        break\n",
    "        \n",
    "for i in range(a, b + 1) :\n",
    "    print(i, end = ' ')"
   ]
  },
  {
   "cell_type": "markdown",
   "id": "0fe14ba3",
   "metadata": {},
   "source": [
    "# 68"
   ]
  },
  {
   "cell_type": "code",
   "execution_count": 178,
   "id": "f870b697",
   "metadata": {},
   "outputs": [
    {
     "name": "stdout",
     "output_type": "stream",
     "text": [
      "3 8\n",
      "8 7 6 5 4 3 "
     ]
    }
   ],
   "source": [
    "while True :\n",
    "    a, b = input().split()\n",
    "    a, b = int(a), int(b)\n",
    "    if (a > 0 and b > 0 and a <= 100 and b <= 100) and (a <= b) :\n",
    "        break\n",
    "        \n",
    "for i in range(b, a - 1, -1) :\n",
    "    print(i, end = ' ')"
   ]
  },
  {
   "cell_type": "markdown",
   "id": "ccc29194",
   "metadata": {},
   "source": [
    "# 69"
   ]
  },
  {
   "cell_type": "code",
   "execution_count": 179,
   "id": "01eee27e",
   "metadata": {},
   "outputs": [
    {
     "name": "stdout",
     "output_type": "stream",
     "text": [
      "220\n"
     ]
    }
   ],
   "source": [
    "N = 10 \n",
    "j = N\n",
    "summ = 0\n",
    "for i in range(1, N + 1) :\n",
    "    summ = summ + (i * j)\n",
    "    j -= 1\n",
    "print(summ)"
   ]
  },
  {
   "cell_type": "markdown",
   "id": "2a144e78",
   "metadata": {},
   "source": [
    "# 70"
   ]
  },
  {
   "cell_type": "code",
   "execution_count": 181,
   "id": "2f214419",
   "metadata": {},
   "outputs": [
    {
     "name": "stdout",
     "output_type": "stream",
     "text": [
      "100\n",
      "5050\n"
     ]
    }
   ],
   "source": [
    "N = int(input())\n",
    "print(sum(range(1, N+1)))"
   ]
  },
  {
   "cell_type": "markdown",
   "id": "a139e259",
   "metadata": {},
   "source": [
    "# 71"
   ]
  },
  {
   "cell_type": "code",
   "execution_count": 182,
   "id": "b436f05a",
   "metadata": {},
   "outputs": [
    {
     "name": "stdout",
     "output_type": "stream",
     "text": [
      "51 100\n",
      "3775\n"
     ]
    }
   ],
   "source": [
    "a, b = input().split()\n",
    "a, b = int(a), int(b)\n",
    "print(sum(range(a, b+1)))"
   ]
  },
  {
   "cell_type": "markdown",
   "id": "3ecaac52",
   "metadata": {},
   "source": [
    "# 72"
   ]
  },
  {
   "cell_type": "code",
   "execution_count": 190,
   "id": "6ce77d96",
   "metadata": {},
   "outputs": [
    {
     "name": "stdout",
     "output_type": "stream",
     "text": [
      "11\n",
      "1 3 5 7 9 11\n"
     ]
    }
   ],
   "source": [
    "N = int(input())\n",
    "print(*range(1, N + 1, 2))"
   ]
  },
  {
   "cell_type": "markdown",
   "id": "bab92584",
   "metadata": {},
   "source": [
    "# 73"
   ]
  },
  {
   "cell_type": "code",
   "execution_count": 193,
   "id": "dc1b1efe",
   "metadata": {},
   "outputs": [
    {
     "name": "stdout",
     "output_type": "stream",
     "text": [
      "12\n",
      "6\n"
     ]
    }
   ],
   "source": [
    "N = int(input())\n",
    "count = 0\n",
    "for i in range(1, N + 1) :\n",
    "    if N % i == 0 :\n",
    "        count += 1\n",
    "print(count)"
   ]
  },
  {
   "cell_type": "markdown",
   "id": "f9780d6a",
   "metadata": {},
   "source": [
    "# 74"
   ]
  },
  {
   "cell_type": "code",
   "execution_count": 194,
   "id": "c7c7cb92",
   "metadata": {},
   "outputs": [
    {
     "name": "stdout",
     "output_type": "stream",
     "text": [
      "10\n",
      "23\n"
     ]
    }
   ],
   "source": [
    "N = int(input())\n",
    "summ = 0\n",
    "for i in range(1, N) :\n",
    "    if (i % 3 and i % 5) == 0 :\n",
    "        summ += i\n",
    "print(summ)"
   ]
  },
  {
   "cell_type": "markdown",
   "id": "96639a22",
   "metadata": {},
   "source": [
    "# 75"
   ]
  },
  {
   "cell_type": "code",
   "execution_count": 195,
   "id": "b484a08b",
   "metadata": {},
   "outputs": [
    {
     "name": "stdout",
     "output_type": "stream",
     "text": [
      "12\n",
      "28\n"
     ]
    }
   ],
   "source": [
    "N = int(input())\n",
    "summ = 0\n",
    "\n",
    "for i in range(1, N + 1) :\n",
    "    if N % i == 0 :\n",
    "        summ += i\n",
    "print(summ)"
   ]
  },
  {
   "cell_type": "markdown",
   "id": "36917ca1",
   "metadata": {},
   "source": [
    "# 76"
   ]
  },
  {
   "cell_type": "code",
   "execution_count": 204,
   "id": "65a0eb41",
   "metadata": {},
   "outputs": [
    {
     "name": "stdout",
     "output_type": "stream",
     "text": [
      "10\n",
      "2\n"
     ]
    }
   ],
   "source": [
    "N = int(input())\n",
    "count = 0\n",
    "for i in range(1, N + 1) :\n",
    "    \n",
    "    for j in range(1, i + 1) :\n",
    "        if (i % 2 == 0 and j % 2 == 0) and (i * j < N) :\n",
    "            count += 1\n",
    "print(count)"
   ]
  },
  {
   "cell_type": "markdown",
   "id": "c1b919db",
   "metadata": {},
   "source": [
    "# 77"
   ]
  },
  {
   "cell_type": "code",
   "execution_count": 213,
   "id": "037987fa",
   "metadata": {},
   "outputs": [
    {
     "name": "stdout",
     "output_type": "stream",
     "text": [
      "6\n",
      "PERFECT\n"
     ]
    }
   ],
   "source": [
    "N = int(input())\n",
    "summ = 0\n",
    "\n",
    "for i in range(1, N) :\n",
    "    if N % i == 0 :\n",
    "        summ += i\n",
    "        \n",
    "if summ > N :\n",
    "    print('ABUNDANT')\n",
    "elif summ == N :\n",
    "    print('PERFECT')\n",
    "else :\n",
    "    print('DEFICIENT')    "
   ]
  },
  {
   "cell_type": "markdown",
   "id": "d527abb9",
   "metadata": {},
   "source": [
    "# 78"
   ]
  },
  {
   "cell_type": "code",
   "execution_count": 214,
   "id": "02b1c219",
   "metadata": {},
   "outputs": [
    {
     "name": "stdout",
     "output_type": "stream",
     "text": [
      "#\n",
      "##\n",
      "###\n",
      "####\n",
      "#####\n"
     ]
    }
   ],
   "source": [
    "n = 5 \n",
    "for i in range(1, n + 1) :\n",
    "    print(f\"{'#' * i}\")"
   ]
  },
  {
   "cell_type": "code",
   "execution_count": 219,
   "id": "6bde41c9",
   "metadata": {},
   "outputs": [
    {
     "name": "stdout",
     "output_type": "stream",
     "text": [
      "#####\n",
      "####\n",
      "###\n",
      "##\n",
      "#\n"
     ]
    }
   ],
   "source": [
    "n = 5 \n",
    "for i in range(n, 0, -1) :\n",
    "    print(f\"{'#' * i}\")"
   ]
  },
  {
   "cell_type": "code",
   "execution_count": 225,
   "id": "9a093006",
   "metadata": {},
   "outputs": [
    {
     "name": "stdout",
     "output_type": "stream",
     "text": [
      "    #\n",
      "   ##\n",
      "  ###\n",
      " ####\n",
      "#####\n"
     ]
    }
   ],
   "source": [
    "n = 5\n",
    "for i in range(1, n + 1) :\n",
    "    print(f\"{' ' * (n - i)}{'#' * i}\")"
   ]
  },
  {
   "cell_type": "code",
   "execution_count": 227,
   "id": "190deca8",
   "metadata": {},
   "outputs": [
    {
     "name": "stdout",
     "output_type": "stream",
     "text": [
      "#####\n",
      " ####\n",
      "  ###\n",
      "   ##\n",
      "    #\n"
     ]
    }
   ],
   "source": [
    "n = 5\n",
    "for i in range(n, 0, -1) :\n",
    "    print(f\"{' ' * (n-i)}{'#' * i}\")"
   ]
  },
  {
   "cell_type": "code",
   "execution_count": 224,
   "id": "bf89a5dc",
   "metadata": {
    "scrolled": true
   },
   "outputs": [
    {
     "name": "stdout",
     "output_type": "stream",
     "text": [
      "    #\n",
      "   ###\n",
      "  #####\n",
      " #######\n",
      "#########\n"
     ]
    }
   ],
   "source": [
    "for i in range(1, n + 1) :\n",
    "    print(f\"{' ' * (n - i)}{'#' * (2*i-1)}\")"
   ]
  },
  {
   "cell_type": "code",
   "execution_count": 232,
   "id": "665c6b90",
   "metadata": {},
   "outputs": [
    {
     "name": "stdout",
     "output_type": "stream",
     "text": [
      "#########\n",
      " #######\n",
      "  #####\n",
      "   ###\n",
      "    #\n"
     ]
    }
   ],
   "source": [
    "for i in range(n, 0, -1) :\n",
    "    print(f\"{' ' * (n-i)}{'#' * (2 * i -1)}\")"
   ]
  },
  {
   "cell_type": "markdown",
   "id": "0b4b1b05",
   "metadata": {},
   "source": [
    "# 84"
   ]
  },
  {
   "cell_type": "code",
   "execution_count": 3,
   "id": "e56dd757",
   "metadata": {},
   "outputs": [
    {
     "name": "stdout",
     "output_type": "stream",
     "text": [
      "20\n",
      "1 1 3\n",
      "2 2 2\n",
      "3 3 1\n",
      "6 1 1\n",
      "4\n"
     ]
    }
   ],
   "source": [
    "G = int(input())\n",
    "count = 0\n",
    "for g2 in range(1, 11) :\n",
    "    for g3 in range(1, 11) :\n",
    "        for g5 in range(1, 11) :\n",
    "            if g2 * 2  + g3 * 3 + g5 * 5 == G :\n",
    "                print(g2, g3, g5)\n",
    "                count += 1\n",
    "print(count)"
   ]
  },
  {
   "cell_type": "code",
   "execution_count": 21,
   "id": "4b33cf45",
   "metadata": {},
   "outputs": [
    {
     "name": "stdout",
     "output_type": "stream",
     "text": [
      "1--------4\n",
      "12------43\n",
      "123----432\n",
      "1234--4321\n",
      "1234543210\n"
     ]
    }
   ],
   "source": [
    "n = 5\n",
    "\n",
    "for i in range(1, n + 1) :\n",
    "    print(*range(1, i + 1), sep='', end='')\n",
    "    print(f\"{'-' * ((n-i)*2)}\", end='')\n",
    "    print(*range(n-1, n-i-1, -1), sep='')"
   ]
  },
  {
   "cell_type": "code",
   "execution_count": 136,
   "id": "54538044",
   "metadata": {},
   "outputs": [
    {
     "name": "stdout",
     "output_type": "stream",
     "text": [
      "5\n",
      "1       1\n",
      "12     21\n",
      "123   321\n",
      "1234 4321\n",
      "123454321\n",
      "1234 4321\n",
      "123   321\n",
      "12     21\n",
      "1       1\n"
     ]
    }
   ],
   "source": [
    "n = int(input())\n",
    "for i in range(1, n) :\n",
    "    print(*range(1, i + 1), sep = '', end = '')\n",
    "    print(f\"{' ' * (((n - i) * 2) - 1) }\", end = '') \n",
    "    for j in range(i, 0, -1):\n",
    "        print(j, end = '')\n",
    "    print()\n",
    "\n",
    "for i in range(1, n + 1) :\n",
    "    print(i, end = '')\n",
    "for i in range(n - 1, 0, -1) :\n",
    "    print(i, end = '')\n",
    "print()\n",
    "    \n",
    "for j in range(n, 1, -1) :\n",
    "    print(*range(1, j), sep = '', end = '')\n",
    "    print(f\"{' ' * (((n - j + 1) * 2) - 1)}\", end = '')\n",
    "    print(*range(j - 1, 0, -1), sep='')"
   ]
  },
  {
   "cell_type": "markdown",
   "id": "571f4d29",
   "metadata": {},
   "source": [
    "# 86"
   ]
  },
  {
   "cell_type": "code",
   "execution_count": 137,
   "id": "96146e49",
   "metadata": {},
   "outputs": [
    {
     "name": "stdout",
     "output_type": "stream",
     "text": [
      "1250\n",
      "8750\n",
      "7500\n",
      "6250\n",
      "5000\n",
      "3750\n",
      "2500\n",
      "1250\n",
      "0\n",
      "8\n"
     ]
    }
   ],
   "source": [
    "A = int(input())\n",
    "balance = 10000\n",
    "count = 0\n",
    "\n",
    "while True :\n",
    "    balance -= A\n",
    "    if balance >= 0 :\n",
    "        print(balance)\n",
    "        count += 1\n",
    "    else : \n",
    "        break\n",
    "print(count)"
   ]
  },
  {
   "cell_type": "markdown",
   "id": "7ef95c57",
   "metadata": {},
   "source": [
    "# 95"
   ]
  },
  {
   "cell_type": "code",
   "execution_count": 151,
   "id": "d36f8769",
   "metadata": {},
   "outputs": [
    {
     "name": "stdout",
     "output_type": "stream",
     "text": [
      "120\n",
      "Normal Number\n"
     ]
    }
   ],
   "source": [
    "number = int(input())\n",
    "origin = number\n",
    "reversed_number = 0\n",
    "while number > 0:\n",
    "    reversed_number = reversed_number * 10 + number % 10\n",
    "    number //= 10\n",
    "\n",
    "if origin == reversed_number :\n",
    "    print('Palindrome Number')\n",
    "else :\n",
    "    print('Normal Number')"
   ]
  },
  {
   "cell_type": "code",
   "execution_count": 152,
   "id": "5b48df2f",
   "metadata": {},
   "outputs": [
    {
     "name": "stdout",
     "output_type": "stream",
     "text": [
      "(1, 3, 5, 7, 9, 11, 13, 15, 17, 19, 21, 23, 25, 27, 29, 31, 33, 35, 37, 39, 41, 43, 45, 47, 49, 51, 53, 55, 57, 59, 61, 63, 65, 67, 69, 71, 73, 75, 77, 79, 81, 83, 85, 87, 89, 91, 93, 95, 97, 99)\n",
      "<class 'tuple'>\n"
     ]
    }
   ],
   "source": [
    "tup = tuple(range(1,100,2))\n",
    "print(tup)\n",
    "print(type(tup))"
   ]
  },
  {
   "cell_type": "code",
   "execution_count": 155,
   "id": "6d686985",
   "metadata": {},
   "outputs": [
    {
     "name": "stdout",
     "output_type": "stream",
     "text": [
      "2021Y 12M 24D\n"
     ]
    }
   ],
   "source": [
    "n = '20211224'\n",
    "print('{}Y {}M {}D'.format(n[:4],n[4:6],n[6:]))"
   ]
  },
  {
   "cell_type": "markdown",
   "id": "e00d3d5f",
   "metadata": {},
   "source": [
    "# 128"
   ]
  },
  {
   "cell_type": "code",
   "execution_count": 158,
   "id": "cebfc0ba",
   "metadata": {},
   "outputs": [
    {
     "name": "stdout",
     "output_type": "stream",
     "text": [
      "13\n",
      "2\n",
      "10\n",
      "1\n",
      "2\n",
      "[0, 1, 1, 1, 1, 1, 1, 1, 1, 1, 1, 1, 1, 0]\n",
      "[0, 1, 1, 1, 1, 1, 1, 1, 1, 1, 1, 1, 1, 1]\n",
      "1\n"
     ]
    }
   ],
   "source": [
    "N = int(input())\n",
    "M = int(input())\n",
    "K = int(input())\n",
    "check = [0] * (N + 1)\n",
    "for _ in range(M) :\n",
    "    x = int(input())\n",
    "    for j in range(x - K, x + K + 1) :\n",
    "        if 1 <= j <= N :\n",
    "            check[j] = 1\n",
    "print(check)\n",
    "cnt = 0\n",
    "for i in range(1, N + 1) :\n",
    "    if check[i] == 0 :\n",
    "        cnt += 1\n",
    "        for j in range(i, min(i + K * 2, N) + 1) :\n",
    "            check[j] = 1\n",
    "print(check)\n",
    "print(cnt)"
   ]
  },
  {
   "cell_type": "code",
   "execution_count": 174,
   "id": "4b3dda19",
   "metadata": {},
   "outputs": [
    {
     "name": "stdout",
     "output_type": "stream",
     "text": [
      "#\n",
      "##\n",
      "###\n",
      "####\n",
      "#####\n"
     ]
    }
   ],
   "source": [
    "n = 5\n",
    "for i in range(n) :\n",
    "    print(f\"{'#'*(i+1)}\")"
   ]
  },
  {
   "cell_type": "code",
   "execution_count": 165,
   "id": "466a6387",
   "metadata": {},
   "outputs": [
    {
     "name": "stdout",
     "output_type": "stream",
     "text": [
      "        #\n",
      "       ###\n",
      "      #####\n",
      "     #######\n",
      "    #########\n"
     ]
    }
   ],
   "source": [
    "n = 5\n",
    "\n",
    "k = 2 * n - 2\n",
    "\n",
    "for i in range(1, n + 1) :\n",
    "    for j in range(0, k) :\n",
    "        print(end = ' ')\n",
    "        \n",
    "    k = k - 1\n",
    "    \n",
    "    for j in range(0, 2 * i - 1) :\n",
    "        print('#', end = '')\n",
    "    print()"
   ]
  },
  {
   "cell_type": "code",
   "execution_count": 78,
   "id": "26dc94c0",
   "metadata": {},
   "outputs": [
    {
     "name": "stdout",
     "output_type": "stream",
     "text": [
      "Enter the integers separated by spaces: 100 150 230 120 180 100 140 95 81 21 4\n",
      "The tuple of integers is: (100, 150, 230, 120, 180, 100, 140, 95, 81, 21, 4)\n",
      "<class 'tuple'>\n"
     ]
    }
   ],
   "source": [
    "input_values = input(\"Enter the integers separated by spaces: \")\n",
    "integer_list = input_values.split()\n",
    "\n",
    "integer_tuple = tuple(int(num) for num in integer_list)\n",
    "\n",
    "print(\"The tuple of integers is:\", integer_tuple)\n",
    "print(type(integer_tuple))"
   ]
  },
  {
   "cell_type": "code",
   "execution_count": 11,
   "id": "41bd0bff",
   "metadata": {},
   "outputs": [
    {
     "name": "stdout",
     "output_type": "stream",
     "text": [
      "5\n",
      "12\n"
     ]
    }
   ],
   "source": [
    "# 49\n",
    "n = int(input())\n",
    "\n",
    "hor = n // 2\n",
    "ver = n - hor\n",
    "\n",
    "pcs = (hor + 1) * (ver + 1)\n",
    "print(pcs)"
   ]
  },
  {
   "cell_type": "code",
   "execution_count": 9,
   "id": "1423828d",
   "metadata": {},
   "outputs": [
    {
     "name": "stdout",
     "output_type": "stream",
     "text": [
      "0002\n",
      "0001\n",
      "1\n"
     ]
    }
   ],
   "source": [
    "l1 = int(input())\n",
    "l2 = int(input())\n",
    "\n",
    "v = 0\n",
    "day = 1\n",
    "while True :\n",
    "    if v > l1 and v > l2 :\n",
    "        break\n",
    "    if day % 2 == 1 :\n",
    "        today = l1\n",
    "    else :\n",
    "        today = l2\n",
    "    v += 1\n",
    "    if v == today :\n",
    "        print('0')\n",
    "        break\n",
    "    else :\n",
    "        print('1')\n",
    "        break\n",
    "        \n",
    "    "
   ]
  },
  {
   "cell_type": "code",
   "execution_count": null,
   "id": "5f06e88d",
   "metadata": {},
   "outputs": [],
   "source": []
  }
 ],
 "metadata": {
  "kernelspec": {
   "display_name": "Python 3 (ipykernel)",
   "language": "python",
   "name": "python3"
  },
  "language_info": {
   "codemirror_mode": {
    "name": "ipython",
    "version": 3
   },
   "file_extension": ".py",
   "mimetype": "text/x-python",
   "name": "python",
   "nbconvert_exporter": "python",
   "pygments_lexer": "ipython3",
   "version": "3.10.9"
  }
 },
 "nbformat": 4,
 "nbformat_minor": 5
}

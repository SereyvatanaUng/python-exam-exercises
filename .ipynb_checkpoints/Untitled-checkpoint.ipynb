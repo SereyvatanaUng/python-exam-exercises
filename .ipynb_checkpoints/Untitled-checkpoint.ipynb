{
 "cells": [
  {
   "cell_type": "code",
   "execution_count": 1,
   "id": "f77b29ef",
   "metadata": {},
   "outputs": [
    {
     "name": "stdout",
     "output_type": "stream",
     "text": [
      "15\n"
     ]
    }
   ],
   "source": [
    "print(1 + 2 + 3 + 4 + 5)"
   ]
  },
  {
   "cell_type": "code",
   "execution_count": 2,
   "id": "4b151cf0",
   "metadata": {},
   "outputs": [
    {
     "name": "stdout",
     "output_type": "stream",
     "text": [
      "****************************************\n",
      "# # # # # # # # # # # # # # # # # # # # \n"
     ]
    }
   ],
   "source": [
    "print('*' * 40)\n",
    "print('# ' * 20)"
   ]
  },
  {
   "cell_type": "code",
   "execution_count": 5,
   "id": "126c0e08",
   "metadata": {},
   "outputs": [
    {
     "name": "stdout",
     "output_type": "stream",
     "text": [
      "Enter two integers: 14 10\n",
      "10 14\n"
     ]
    }
   ],
   "source": [
    "a, b =input('Enter two integers: ').split()\n",
    "a, b = int(a), int(b)\n",
    "\n",
    "if a > b :\n",
    "    a, b = b, a\n",
    "\n",
    "print(a, b)"
   ]
  },
  {
   "cell_type": "code",
   "execution_count": 9,
   "id": "d0ee469e",
   "metadata": {},
   "outputs": [
    {
     "name": "stdout",
     "output_type": "stream",
     "text": [
      "2 is a prime number.\n",
      "3 is a prime number.\n",
      "4 is a composite number.\n",
      "5 is a prime number.\n",
      "6 is a composite number.\n",
      "7 is a prime number.\n",
      "8 is a composite number.\n",
      "9 is a composite number.\n",
      "10 is a composite number.\n",
      "11 is a prime number.\n",
      "12 is a composite number.\n"
     ]
    }
   ],
   "source": [
    "for i in range(2, 13) :\n",
    "    count = 0\n",
    "    for j in range(1, i + 1) :\n",
    "        if i % j == 0 :\n",
    "            count += 1\n",
    "            \n",
    "    if count == 2 :\n",
    "        print(i, 'is a prime number.')\n",
    "    else :\n",
    "        print(i, 'is a composite number.')"
   ]
  },
  {
   "cell_type": "markdown",
   "id": "b7e1988b",
   "metadata": {},
   "source": [
    "# 5"
   ]
  },
  {
   "cell_type": "code",
   "execution_count": 13,
   "id": "de558f43",
   "metadata": {},
   "outputs": [
    {
     "name": "stdout",
     "output_type": "stream",
     "text": [
      "[100]\n",
      "[101]\n",
      "[102]\n",
      "[103]\n",
      "[104]\n",
      "[105]\n",
      "[106]\n",
      "[107]\n",
      "[108]\n",
      "[109]\n",
      "[110]\n"
     ]
    }
   ],
   "source": [
    "amstrong = []\n",
    "for i in range(100, 111) :\n",
    "    temp = [i]\n",
    "    temp = [*temp]\n",
    "    print(temp)"
   ]
  },
  {
   "cell_type": "code",
   "execution_count": 29,
   "id": "873c3169",
   "metadata": {},
   "outputs": [
    {
     "name": "stdout",
     "output_type": "stream",
     "text": [
      "I like pancake.\n",
      "I like kiwi juice.\n",
      "I like expresso.\n",
      "I love pancake.\n",
      "I love kiwi juice.\n",
      "I love expresso.\n"
     ]
    }
   ],
   "source": [
    "l1 = ['I like', 'I love']\n",
    "l2 = ['Pancake', 'Kiwi Juice', 'Expresso']\n",
    "\n",
    "for i in range(len(l1)) :\n",
    "    for j in range(len(l2)) :\n",
    "        print('{} {}.'.format(l1[i], l2[j].lower()))"
   ]
  },
  {
   "cell_type": "markdown",
   "id": "8524d036",
   "metadata": {},
   "source": [
    "# 7"
   ]
  },
  {
   "cell_type": "code",
   "execution_count": 41,
   "id": "ed0f2862",
   "metadata": {},
   "outputs": [
    {
     "name": "stdout",
     "output_type": "stream",
     "text": [
      "Given list =  [5, 6, 3, 9, 2, 12, 3, 8, 7]\n",
      "Result list =  [5, 3, 6, 2, 9, 3, 8, 7, 12]\n"
     ]
    }
   ],
   "source": [
    "lst = [5, 6, 3, 9, 2, 12, 3, 8, 7]\n",
    "\n",
    "print('Given list = ', lst)\n",
    "\n",
    "for i in range(len(lst) - 1) :\n",
    "    if lst[i] > lst[i + 1] :\n",
    "        lst[i], lst[i+1] = lst[i+1], lst[i]\n",
    "\n",
    "print('Result list = ',lst)"
   ]
  },
  {
   "cell_type": "markdown",
   "id": "7f36e957",
   "metadata": {},
   "source": [
    "# 8"
   ]
  },
  {
   "cell_type": "code",
   "execution_count": 36,
   "id": "deb2c9d3",
   "metadata": {},
   "outputs": [],
   "source": [
    "scores = (('Hyun', 88, 95, 90), ('Kang', 85, 90, 95), ('Park', 70, 90, 80), ('Hong', 90, 90, 95))\n",
    "\n"
   ]
  },
  {
   "cell_type": "code",
   "execution_count": 51,
   "id": "d7b7857a",
   "metadata": {},
   "outputs": [
    {
     "name": "stdout",
     "output_type": "stream",
     "text": [
      "(88, 95, 90)\n",
      "273\n"
     ]
    }
   ],
   "source": [
    "score = ('Hyun', 88, 95, 90)\n",
    "lst = score[1:]\n",
    "print(lst)\n",
    "l = sum(lst)\n",
    "print(l)"
   ]
  },
  {
   "cell_type": "markdown",
   "id": "55f0f3d4",
   "metadata": {},
   "source": [
    "# 9"
   ]
  },
  {
   "cell_type": "code",
   "execution_count": 42,
   "id": "c8f8ca2e",
   "metadata": {},
   "outputs": [
    {
     "name": "stdout",
     "output_type": "stream",
     "text": [
      "The area of a circle 153.86\n",
      "The circumference of a circle 43.96\n"
     ]
    }
   ],
   "source": [
    "PI = 3.14\n",
    "r = 7\n",
    "circum = 2 * PI * r\n",
    "area = PI * r * r\n",
    "print('The area of a circle', area)\n",
    "print('The circumference of a circle', circum)"
   ]
  },
  {
   "cell_type": "markdown",
   "id": "c4ebcecc",
   "metadata": {},
   "source": [
    "# 10"
   ]
  },
  {
   "cell_type": "code",
   "execution_count": 53,
   "id": "2333131f",
   "metadata": {},
   "outputs": [
    {
     "name": "stdout",
     "output_type": "stream",
     "text": [
      "100\n",
      "5050\n"
     ]
    }
   ],
   "source": [
    "print(int('50') + 50)\n",
    "print(str(50) + '50')"
   ]
  },
  {
   "cell_type": "code",
   "execution_count": 54,
   "id": "7268058f",
   "metadata": {},
   "outputs": [
    {
     "name": "stdout",
     "output_type": "stream",
     "text": [
      "1000\n"
     ]
    }
   ],
   "source": [
    "print(int('1' + '0' + '0' + '0'))"
   ]
  },
  {
   "cell_type": "code",
   "execution_count": 59,
   "id": "35487770",
   "metadata": {},
   "outputs": [
    {
     "name": "stdout",
     "output_type": "stream",
     "text": [
      "3\n",
      "3! = 6\n"
     ]
    }
   ],
   "source": [
    "n = int(input())\n",
    "fact = 1\n",
    "for i in range(1, N + 1) :\n",
    "    fact *= i\n",
    "print('{}! = {}'.format(N, fact))"
   ]
  },
  {
   "cell_type": "code",
   "execution_count": 68,
   "id": "ea60b439",
   "metadata": {},
   "outputs": [
    {
     "name": "stdout",
     "output_type": "stream",
     "text": [
      "180\n",
      "70\n",
      "21.60\n"
     ]
    }
   ],
   "source": [
    "height = int(input())\n",
    "weight = int(input())\n",
    "\n",
    "height = height / 100\n",
    "BMI = weight / (height ** 2)\n",
    "print('{:.2f}'.format(BMI))"
   ]
  },
  {
   "cell_type": "code",
   "execution_count": 69,
   "id": "e0d0d595",
   "metadata": {},
   "outputs": [
    {
     "name": "stdout",
     "output_type": "stream",
     "text": [
      "1800\n"
     ]
    }
   ],
   "source": [
    "width, height = 30, 60\n",
    "print(width * height)"
   ]
  },
  {
   "cell_type": "code",
   "execution_count": 72,
   "id": "44e22c47",
   "metadata": {},
   "outputs": [
    {
     "name": "stdout",
     "output_type": "stream",
     "text": [
      "3\n",
      "4\n",
      "5.0\n"
     ]
    }
   ],
   "source": [
    "from math import sqrt\n",
    "a = int(input())\n",
    "b = int(input())\n",
    "c = sqrt(pow(a, 2) + pow(b, 2))\n",
    "print(c)"
   ]
  },
  {
   "cell_type": "code",
   "execution_count": 73,
   "id": "d3c0a0f2",
   "metadata": {},
   "outputs": [
    {
     "name": "stdout",
     "output_type": "stream",
     "text": [
      "2\n",
      "1 * 2 = 2\n",
      "2 * 2 = 4\n",
      "3 * 2 = 6\n",
      "4 * 2 = 8\n",
      "5 * 2 = 10\n",
      "6 * 2 = 12\n",
      "7 * 2 = 14\n",
      "8 * 2 = 16\n",
      "9 * 2 = 18\n"
     ]
    }
   ],
   "source": [
    "n = int(input())\n",
    "\n",
    "for a in range(1, 10) :\n",
    "    print('{} * {} = {}'.format(a, n, a * n))"
   ]
  },
  {
   "cell_type": "code",
   "execution_count": 79,
   "id": "5252a27a",
   "metadata": {},
   "outputs": [
    {
     "name": "stdout",
     "output_type": "stream",
     "text": [
      "Please enter the year: 2023\n",
      "False\n"
     ]
    }
   ],
   "source": [
    "year = int(input('Please enter the year: '))\n",
    "print((year % 4 == 0 and year % 100 != 0) or (year % 400 == 0))"
   ]
  },
  {
   "cell_type": "code",
   "execution_count": 81,
   "id": "9720676d",
   "metadata": {},
   "outputs": [
    {
     "name": "stdout",
     "output_type": "stream",
     "text": [
      "20\n",
      "False\n"
     ]
    }
   ],
   "source": [
    "N = int(input())\n",
    "if N % 2 == 0 :\n",
    "    print('False')\n",
    "else :\n",
    "    print('True')"
   ]
  },
  {
   "cell_type": "markdown",
   "id": "771309bf",
   "metadata": {},
   "source": [
    "# 19"
   ]
  },
  {
   "cell_type": "code",
   "execution_count": 85,
   "id": "625333b6",
   "metadata": {},
   "outputs": [
    {
     "name": "stdout",
     "output_type": "stream",
     "text": [
      "12\n",
      "False\n"
     ]
    }
   ],
   "source": [
    "n = int(input())\n",
    "print((n % 2 == 1) and (n >= 0 and n <= 10))"
   ]
  },
  {
   "cell_type": "code",
   "execution_count": 90,
   "id": "12c9f0b7",
   "metadata": {},
   "outputs": [
    {
     "name": "stdout",
     "output_type": "stream",
     "text": [
      "222\n",
      "False\n"
     ]
    }
   ],
   "source": [
    "n = int(input())\n",
    "print(n >= 300 and n < 400)"
   ]
  },
  {
   "cell_type": "code",
   "execution_count": 95,
   "id": "d38ba7ee",
   "metadata": {},
   "outputs": [
    {
     "name": "stdout",
     "output_type": "stream",
     "text": [
      "125\n",
      "True\n"
     ]
    }
   ],
   "source": [
    "n = int(input())\n",
    "print(n % 5 == 0)"
   ]
  },
  {
   "cell_type": "code",
   "execution_count": 99,
   "id": "514a9dd8",
   "metadata": {},
   "outputs": [
    {
     "name": "stdout",
     "output_type": "stream",
     "text": [
      "Please enter three lottery numbers : 3 2 9\n",
      "You won the lottery!\n"
     ]
    }
   ],
   "source": [
    "a, b, c = 2, 3, 9\n",
    "num1, num2, num3 = input('Please enter three lottery numbers : ').split()\n",
    "num1, num2, num3 = int(num1), int(num2), int(num3)\n",
    "\n",
    "count = 0 \n",
    "\n",
    "if num1 == a or num1 == b or num1 == c :\n",
    "    count += 1\n",
    "if num2 == a or num2 == b or num2 == c :\n",
    "    count += 1\n",
    "if num3 == a or num3 == b or num3 == c :\n",
    "    count += 1\n",
    "    \n",
    "if count == 3 :\n",
    "    print('You won the lottery!')"
   ]
  },
  {
   "cell_type": "code",
   "execution_count": 105,
   "id": "d85f2fa7",
   "metadata": {},
   "outputs": [
    {
     "name": "stdout",
     "output_type": "stream",
     "text": [
      "50\n",
      "Natural number\n"
     ]
    }
   ],
   "source": [
    "n = int(input())\n",
    "if n >= 0 and n <= 100 :\n",
    "    print('Natural number')"
   ]
  },
  {
   "cell_type": "markdown",
   "id": "cde72dfd",
   "metadata": {},
   "source": [
    "# 24"
   ]
  },
  {
   "cell_type": "code",
   "execution_count": 113,
   "id": "31866540",
   "metadata": {},
   "outputs": [
    {
     "name": "stdout",
     "output_type": "stream",
     "text": [
      "20 180\n",
      "Adult\n",
      "You can enter\n"
     ]
    }
   ],
   "source": [
    "age, height = input().split()\n",
    "age, height = int(age), int(height)\n",
    "\n",
    "if age > 0 and age < 10 :\n",
    "    print('Kid')\n",
    "if age >= 10 and age < 20 :\n",
    "    print('Youth')\n",
    "if age >= 20 :\n",
    "    print('Adult')\n",
    "    \n",
    "if age >= 10 and height >= 110 :\n",
    "    print('You can enter')"
   ]
  },
  {
   "cell_type": "code",
   "execution_count": 129,
   "id": "676073d4",
   "metadata": {},
   "outputs": [
    {
     "name": "stdout",
     "output_type": "stream",
     "text": [
      "1\n"
     ]
    }
   ],
   "source": [
    "import random as rd\n",
    "\n",
    "r = rd.randint(0, 2)\n",
    "if r == 0 :\n",
    "    computer = "
   ]
  }
 ],
 "metadata": {
  "kernelspec": {
   "display_name": "Python 3 (ipykernel)",
   "language": "python",
   "name": "python3"
  },
  "language_info": {
   "codemirror_mode": {
    "name": "ipython",
    "version": 3
   },
   "file_extension": ".py",
   "mimetype": "text/x-python",
   "name": "python",
   "nbconvert_exporter": "python",
   "pygments_lexer": "ipython3",
   "version": "3.10.9"
  }
 },
 "nbformat": 4,
 "nbformat_minor": 5
}
